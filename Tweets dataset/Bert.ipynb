{
 "cells": [
  {
   "cell_type": "code",
   "execution_count": 1,
   "metadata": {
    "_cell_guid": "b1076dfc-b9ad-4769-8c92-a6c4dae69d19",
    "_uuid": "8f2839f25d086af736a60e9eeb907d3b93b6e0e5"
   },
   "outputs": [
    {
     "name": "stdout",
     "output_type": "stream",
     "text": [
      "2.8.0\n"
     ]
    }
   ],
   "source": [
    "import numpy as np # linear algebra\n",
    "import pandas as pd # data processing, CSV file I/O (e.g. pd.read_csv)\n",
    "from sklearn.model_selection import train_test_split\n",
    "import os\n",
    "import pandas as pd\n",
    "import numpy as np\n",
    "from sklearn.model_selection import GroupKFold\n",
    "import matplotlib.pyplot as plt\n",
    "from tqdm.notebook import tqdm\n",
    "import tensorflow as tf\n",
    "import tensorflow_hub as hub\n",
    "import tensorflow_text as text\n",
    "import tensorflow.keras.backend as K\n",
    "from scipy.stats import spearmanr\n",
    "from math import floor, ceil\n",
    "from transformers import *\n",
    "\n",
    "np.set_printoptions(suppress=True)\n",
    "print(tf.__version__)\n",
    "\n",
    "import shutil\n",
    "\n",
    "\n",
    "\n",
    "tf.get_logger().setLevel('ERROR')"
   ]
  },
  {
   "cell_type": "markdown",
   "metadata": {},
   "source": [
    "## Reading and preparing the dataset"
   ]
  },
  {
   "cell_type": "code",
   "execution_count": 2,
   "metadata": {},
   "outputs": [
    {
     "name": "stdout",
     "output_type": "stream",
     "text": [
      "0    the real reason why you're sad? you're attache...\n",
      "1        my biggest problem is overthinking everything\n",
      "2    the worst sadness is the sadness you've taught...\n",
      "3    i cannot make you understand. i cannot make an...\n",
      "4    i don't think anyone really understands how ti...\n",
      "Name: tweet, dtype: object\n",
      "0    4695\n",
      "1    3440\n",
      "Name: target, dtype: int64\n"
     ]
    }
   ],
   "source": [
    "data_columns = [\"target\", \"tweet\", \"username\"]\n",
    "data_encoding = \"ISO-8859-1\"\n",
    "data=pd.read_csv('./TwitterDataset.csv',encoding = data_encoding, usecols=data_columns)\n",
    "\n",
    "tweets = data.iloc[:, 1]\n",
    "labels = data.iloc[:, 0]\n",
    "\n",
    "print(tweets.head())\n",
    "print(data['target'].value_counts())"
   ]
  },
  {
   "cell_type": "code",
   "execution_count": 3,
   "metadata": {
    "scrolled": true
   },
   "outputs": [
    {
     "data": {
      "text/html": [
       "<div>\n",
       "<style scoped>\n",
       "    .dataframe tbody tr th:only-of-type {\n",
       "        vertical-align: middle;\n",
       "    }\n",
       "\n",
       "    .dataframe tbody tr th {\n",
       "        vertical-align: top;\n",
       "    }\n",
       "\n",
       "    .dataframe thead th {\n",
       "        text-align: right;\n",
       "    }\n",
       "</style>\n",
       "<table border=\"1\" class=\"dataframe\">\n",
       "  <thead>\n",
       "    <tr style=\"text-align: right;\">\n",
       "      <th></th>\n",
       "      <th>target</th>\n",
       "      <th>tweet</th>\n",
       "      <th>username</th>\n",
       "    </tr>\n",
       "  </thead>\n",
       "  <tbody>\n",
       "    <tr>\n",
       "      <th>0</th>\n",
       "      <td>1</td>\n",
       "      <td>the real reason why you're sad? you're attache...</td>\n",
       "      <td>depressingmsgs</td>\n",
       "    </tr>\n",
       "    <tr>\n",
       "      <th>1</th>\n",
       "      <td>1</td>\n",
       "      <td>my biggest problem is overthinking everything</td>\n",
       "      <td>depressingmsgs</td>\n",
       "    </tr>\n",
       "    <tr>\n",
       "      <th>2</th>\n",
       "      <td>1</td>\n",
       "      <td>the worst sadness is the sadness you've taught...</td>\n",
       "      <td>depressingmsgs</td>\n",
       "    </tr>\n",
       "    <tr>\n",
       "      <th>3</th>\n",
       "      <td>1</td>\n",
       "      <td>i cannot make you understand. i cannot make an...</td>\n",
       "      <td>depressingmsgs</td>\n",
       "    </tr>\n",
       "    <tr>\n",
       "      <th>4</th>\n",
       "      <td>1</td>\n",
       "      <td>i don't think anyone really understands how ti...</td>\n",
       "      <td>depressingmsgs</td>\n",
       "    </tr>\n",
       "  </tbody>\n",
       "</table>\n",
       "</div>"
      ],
      "text/plain": [
       "   target                                              tweet        username\n",
       "0       1  the real reason why you're sad? you're attache...  depressingmsgs\n",
       "1       1      my biggest problem is overthinking everything  depressingmsgs\n",
       "2       1  the worst sadness is the sadness you've taught...  depressingmsgs\n",
       "3       1  i cannot make you understand. i cannot make an...  depressingmsgs\n",
       "4       1  i don't think anyone really understands how ti...  depressingmsgs"
      ]
     },
     "execution_count": 3,
     "metadata": {},
     "output_type": "execute_result"
    }
   ],
   "source": [
    "data.head(5)"
   ]
  },
  {
   "cell_type": "code",
   "execution_count": 4,
   "metadata": {},
   "outputs": [],
   "source": [
    "def preprocess(tweet):\n",
    "    username = \"@\\S+\"\n",
    "    new_tweet = re.sub(username, ' ',tweet) # Remove @tags\n",
    "    \n",
    "    new_tweet = new_tweet.lower() # Smart lowercase\n",
    "    \n",
    "    new_tweet = re.sub(r'\\d+', ' ', new_tweet) # Remove numbers\n",
    "    \n",
    "    text_noise = \"https?:\\S+|http?:\\S|[^A-Za-z0-9]+\" \n",
    "    new_tweet = re.sub(text_noise, ' ', new_tweet) # Remove links\n",
    "    \n",
    "    new_tweet = new_tweet.translate(new_tweet.maketrans('','',string.punctuation)) # Remove Punctuation\n",
    "    \n",
    "    # new_tweet = new_tweet.strip() # Remove white spaces\n",
    "    \n",
    "    # new_tweet = word_tokenize(new_tweet) # Tokenize into words\n",
    "    \n",
    "    # new_tweet = ' '.join([word for word in new_tweet if word.isalpha()]) # Remove non alphabetic tokens\n",
    "    \n",
    "    # stop_words = set(stopwords.words('english'))\n",
    "    # new_tweet = ' '.join([word for word in new_tweet.split() if not word in stop_words]) # Filter out stop words\n",
    "    \n",
    "    # lemmatizer = WordNetLemmatizer()\n",
    "    # new_tweet = ' '.join([lemmatizer.lemmatize(word,\"v\") for word in new_tweet.split()]) # Word Lemmatization\n",
    "    \n",
    "    return new_tweet"
   ]
  },
  {
   "cell_type": "code",
   "execution_count": 5,
   "metadata": {},
   "outputs": [
    {
     "data": {
      "text/plain": [
       "0    the real reason why you re sad you re attached...\n",
       "1        my biggest problem is overthinking everything\n",
       "2    the worst sadness is the sadness you ve taught...\n",
       "3    i cannot make you understand i cannot make any...\n",
       "4    i don t think anyone really understands how ti...\n",
       "Name: tweet, dtype: object"
      ]
     },
     "metadata": {},
     "output_type": "display_data"
    }
   ],
   "source": [
    "import re\n",
    "import string\n",
    "tweets = tweets.apply(preprocess)\n",
    "display(tweets.head())"
   ]
  },
  {
   "cell_type": "code",
   "execution_count": 6,
   "metadata": {},
   "outputs": [
    {
     "data": {
      "text/html": [
       "<div>\n",
       "<style scoped>\n",
       "    .dataframe tbody tr th:only-of-type {\n",
       "        vertical-align: middle;\n",
       "    }\n",
       "\n",
       "    .dataframe tbody tr th {\n",
       "        vertical-align: top;\n",
       "    }\n",
       "\n",
       "    .dataframe thead th {\n",
       "        text-align: right;\n",
       "    }\n",
       "</style>\n",
       "<table border=\"1\" class=\"dataframe\">\n",
       "  <thead>\n",
       "    <tr style=\"text-align: right;\">\n",
       "      <th></th>\n",
       "      <th>target</th>\n",
       "      <th>tweet</th>\n",
       "      <th>username</th>\n",
       "    </tr>\n",
       "  </thead>\n",
       "  <tbody>\n",
       "    <tr>\n",
       "      <th>0</th>\n",
       "      <td>1</td>\n",
       "      <td>the real reason why you're sad? you're attache...</td>\n",
       "      <td>depressingmsgs</td>\n",
       "    </tr>\n",
       "    <tr>\n",
       "      <th>1</th>\n",
       "      <td>1</td>\n",
       "      <td>my biggest problem is overthinking everything</td>\n",
       "      <td>depressingmsgs</td>\n",
       "    </tr>\n",
       "    <tr>\n",
       "      <th>2</th>\n",
       "      <td>1</td>\n",
       "      <td>the worst sadness is the sadness you've taught...</td>\n",
       "      <td>depressingmsgs</td>\n",
       "    </tr>\n",
       "    <tr>\n",
       "      <th>3</th>\n",
       "      <td>1</td>\n",
       "      <td>i cannot make you understand. i cannot make an...</td>\n",
       "      <td>depressingmsgs</td>\n",
       "    </tr>\n",
       "    <tr>\n",
       "      <th>4</th>\n",
       "      <td>1</td>\n",
       "      <td>i don't think anyone really understands how ti...</td>\n",
       "      <td>depressingmsgs</td>\n",
       "    </tr>\n",
       "  </tbody>\n",
       "</table>\n",
       "</div>"
      ],
      "text/plain": [
       "   target                                              tweet        username\n",
       "0       1  the real reason why you're sad? you're attache...  depressingmsgs\n",
       "1       1      my biggest problem is overthinking everything  depressingmsgs\n",
       "2       1  the worst sadness is the sadness you've taught...  depressingmsgs\n",
       "3       1  i cannot make you understand. i cannot make an...  depressingmsgs\n",
       "4       1  i don't think anyone really understands how ti...  depressingmsgs"
      ]
     },
     "execution_count": 6,
     "metadata": {},
     "output_type": "execute_result"
    }
   ],
   "source": [
    "data.head(5)"
   ]
  },
  {
   "cell_type": "code",
   "execution_count": 7,
   "metadata": {},
   "outputs": [
    {
     "data": {
      "text/plain": [
       "5627    Most people ignore opportunities because they ...\n",
       "4692    Macaroni and Feed~   Finishing my post-work sn...\n",
       "5814    Uhhhhh how do I fix pls ð¥º  https://t.co/iTe...\n",
       "6780    Temper your words with a consciousness of empa...\n",
       "Name: tweet, dtype: object"
      ]
     },
     "execution_count": 7,
     "metadata": {},
     "output_type": "execute_result"
    }
   ],
   "source": [
    "from sklearn.model_selection import train_test_split\n",
    "X_train, X_test, y_train, y_test = train_test_split(data['tweet'],data['target'], stratify=data['target'])\n",
    "\n",
    "X_train.head(4)"
   ]
  },
  {
   "cell_type": "code",
   "execution_count": 8,
   "metadata": {},
   "outputs": [],
   "source": [
    "import tensorflow as tf\n",
    "import tensorflow_hub as hub\n",
    "!pip install tensorflow-text\n",
    "import tensorflow_text as text"
   ]
  },
  {
   "cell_type": "code",
   "execution_count": 9,
   "metadata": {},
   "outputs": [],
   "source": [
    "#bert_preprocess = hub.KerasLayer(\"https://tfhub.dev/tensorflow/bert_en_uncased_preprocess/3\")\n",
    "bert_encoder = hub.KerasLayer(\"https://tfhub.dev/tensorflow/bert_en_uncased_L-12_H-768_A-12/4\")"
   ]
  },
  {
   "cell_type": "code",
   "execution_count": 10,
   "metadata": {},
   "outputs": [],
   "source": [
    "bert_preprocess_model = hub.KerasLayer('bert_en_uncased_preprocess_3')"
   ]
  },
  {
   "cell_type": "code",
   "execution_count": 12,
   "metadata": {},
   "outputs": [],
   "source": [
    "# Bert layers\n",
    "text_input = tf.keras.layers.Input(shape=(), dtype=tf.string, name='text')\n",
    "preprocessed_text = bert_preprocess_model(text_input)\n",
    "outputs = bert_encoder(preprocessed_text)\n",
    "\n",
    "# Neural network layers\n",
    "l = tf.keras.layers.Dropout(0.1, name=\"dropout\")(outputs['pooled_output'])\n",
    "l = tf.keras.layers.Dense(1, activation='sigmoid', name=\"output\")(l)\n",
    "##\n",
    "\n",
    "\n",
    "# Use inputs and outputs to construct a final model\n",
    "model = tf.keras.Model(inputs=[text_input], outputs = [l])"
   ]
  },
  {
   "cell_type": "code",
   "execution_count": 13,
   "metadata": {},
   "outputs": [
    {
     "name": "stdout",
     "output_type": "stream",
     "text": [
      "Model: \"model\"\n",
      "__________________________________________________________________________________________________\n",
      " Layer (type)                   Output Shape         Param #     Connected to                     \n",
      "==================================================================================================\n",
      " text (InputLayer)              [(None,)]            0           []                               \n",
      "                                                                                                  \n",
      " keras_layer_1 (KerasLayer)     {'input_type_ids':   0           ['text[0][0]']                   \n",
      "                                (None, 128),                                                      \n",
      "                                 'input_mask': (Non                                               \n",
      "                                e, 128),                                                          \n",
      "                                 'input_word_ids':                                                \n",
      "                                (None, 128)}                                                      \n",
      "                                                                                                  \n",
      " keras_layer (KerasLayer)       {'default': (None,   109482241   ['keras_layer_1[0][0]',          \n",
      "                                768),                             'keras_layer_1[0][1]',          \n",
      "                                 'sequence_output':               'keras_layer_1[0][2]']          \n",
      "                                 (None, 128, 768),                                                \n",
      "                                 'encoder_outputs':                                               \n",
      "                                 [(None, 128, 768),                                               \n",
      "                                 (None, 128, 768),                                                \n",
      "                                 (None, 128, 768),                                                \n",
      "                                 (None, 128, 768),                                                \n",
      "                                 (None, 128, 768),                                                \n",
      "                                 (None, 128, 768),                                                \n",
      "                                 (None, 128, 768),                                                \n",
      "                                 (None, 128, 768),                                                \n",
      "                                 (None, 128, 768),                                                \n",
      "                                 (None, 128, 768),                                                \n",
      "                                 (None, 128, 768),                                                \n",
      "                                 (None, 128, 768)],                                               \n",
      "                                 'pooled_output': (                                               \n",
      "                                None, 768)}                                                       \n",
      "                                                                                                  \n",
      " dropout (Dropout)              (None, 768)          0           ['keras_layer[0][13]']           \n",
      "                                                                                                  \n",
      " output (Dense)                 (None, 1)            769         ['dropout[0][0]']                \n",
      "                                                                                                  \n",
      "==================================================================================================\n",
      "Total params: 109,483,010\n",
      "Trainable params: 769\n",
      "Non-trainable params: 109,482,241\n",
      "__________________________________________________________________________________________________\n"
     ]
    }
   ],
   "source": [
    "model.summary()"
   ]
  },
  {
   "cell_type": "code",
   "execution_count": 14,
   "metadata": {},
   "outputs": [],
   "source": [
    "model.compile(optimizer='adam',\n",
    "              loss='binary_crossentropy',\n",
    "              metrics=['accuracy'])"
   ]
  },
  {
   "cell_type": "code",
   "execution_count": 17,
   "metadata": {},
   "outputs": [
    {
     "name": "stdout",
     "output_type": "stream",
     "text": [
      "Epoch 1/10\n",
      "191/191 [==============================] - 60s 314ms/step - loss: 0.3821 - accuracy: 0.8428\n",
      "Epoch 2/10\n",
      "191/191 [==============================] - 61s 318ms/step - loss: 0.3602 - accuracy: 0.8528\n",
      "Epoch 3/10\n",
      "191/191 [==============================] - 61s 319ms/step - loss: 0.3441 - accuracy: 0.8620\n",
      "Epoch 4/10\n",
      "191/191 [==============================] - 61s 321ms/step - loss: 0.3396 - accuracy: 0.8656\n",
      "Epoch 5/10\n",
      "191/191 [==============================] - 61s 322ms/step - loss: 0.3250 - accuracy: 0.8715\n",
      "Epoch 6/10\n",
      "191/191 [==============================] - 61s 320ms/step - loss: 0.3179 - accuracy: 0.8756\n",
      "Epoch 7/10\n",
      "191/191 [==============================] - 62s 323ms/step - loss: 0.3158 - accuracy: 0.8767\n",
      "Epoch 8/10\n",
      "191/191 [==============================] - 61s 322ms/step - loss: 0.3081 - accuracy: 0.8812\n",
      "Epoch 9/10\n",
      "191/191 [==============================] - 62s 324ms/step - loss: 0.3049 - accuracy: 0.8818\n",
      "Epoch 10/10\n",
      "191/191 [==============================] - 62s 324ms/step - loss: 0.2953 - accuracy: 0.8849\n"
     ]
    }
   ],
   "source": [
    "history = model.fit(X_train, y_train , epochs=10, batch_size = 32)#, validation_data=0.2"
   ]
  },
  {
   "cell_type": "code",
   "execution_count": 18,
   "metadata": {},
   "outputs": [
    {
     "name": "stdout",
     "output_type": "stream",
     "text": [
      "64/64 [==============================] - 21s 316ms/step - loss: 0.2943 - accuracy: 0.8845\n"
     ]
    },
    {
     "data": {
      "text/plain": [
       "[0.29429715871810913, 0.8844640851020813]"
      ]
     },
     "execution_count": 18,
     "metadata": {},
     "output_type": "execute_result"
    }
   ],
   "source": [
    "model.evaluate(X_test, y_test)"
   ]
  },
  {
   "cell_type": "code",
   "execution_count": 19,
   "metadata": {},
   "outputs": [
    {
     "name": "stdout",
     "output_type": "stream",
     "text": [
      "191/191 [==============================] - 61s 315ms/step - loss: 0.2808 - accuracy: 0.8946\n"
     ]
    },
    {
     "data": {
      "text/plain": [
       "[0.2807525396347046, 0.894607424736023]"
      ]
     },
     "metadata": {},
     "output_type": "display_data"
    },
    {
     "data": {
      "text/plain": [
       "'train'"
      ]
     },
     "metadata": {},
     "output_type": "display_data"
    }
   ],
   "source": [
    "display(model.evaluate(X_train,y_train), 'train')\n"
   ]
  },
  {
   "cell_type": "code",
   "execution_count": 20,
   "metadata": {},
   "outputs": [
    {
     "name": "stdout",
     "output_type": "stream",
     "text": [
      "               precision    recall  f1-score   support\n",
      "\n",
      "not depressed       0.90      0.92      0.91      3521\n",
      "    depressed       0.88      0.86      0.87      2580\n",
      "\n",
      "     accuracy                           0.89      6101\n",
      "    macro avg       0.89      0.89      0.89      6101\n",
      " weighted avg       0.89      0.89      0.89      6101\n",
      "\n"
     ]
    }
   ],
   "source": [
    "from sklearn.metrics import classification_report\n",
    "\n",
    "predictions = model.predict(X_train)\n",
    "predictions = [1 if p >= 0.5 else 0 for p in predictions]\n",
    "\n",
    "print(classification_report(y_train, predictions, target_names=['not depressed', 'depressed']))"
   ]
  },
  {
   "cell_type": "code",
   "execution_count": 21,
   "metadata": {},
   "outputs": [
    {
     "name": "stdout",
     "output_type": "stream",
     "text": [
      "               precision    recall  f1-score   support\n",
      "\n",
      "not depressed       0.90      0.90      0.90      1174\n",
      "    depressed       0.87      0.86      0.86       860\n",
      "\n",
      "     accuracy                           0.88      2034\n",
      "    macro avg       0.88      0.88      0.88      2034\n",
      " weighted avg       0.88      0.88      0.88      2034\n",
      "\n"
     ]
    }
   ],
   "source": [
    "predictions = model.predict(X_test)\n",
    "predictions = [1 if p >= 0.5 else 0 for p in predictions]\n",
    "\n",
    "print(classification_report(y_test, predictions, target_names=['not depressed', 'depressed']))"
   ]
  },
  {
   "cell_type": "code",
   "execution_count": 22,
   "metadata": {},
   "outputs": [],
   "source": [
    "import itertools\n",
    "def plot_confusion_matrix(cm, classes,\n",
    "                          normalize=False,\n",
    "                          title='Confusion matrix',\n",
    "                          cmap=plt.cm.Reds):\n",
    "    \"\"\"\n",
    "    This function prints and plots the confusion matrix.\n",
    "    Normalization can be applied by setting `normalize=True`.\n",
    "    \"\"\"\n",
    "    plt.imshow(cm, interpolation='nearest', cmap=cmap)\n",
    "    plt.title(title)\n",
    "    plt.colorbar()\n",
    "    tick_marks = np.arange(len(classes))\n",
    "    plt.xticks(tick_marks, classes, rotation=45)\n",
    "    plt.yticks(tick_marks, classes)\n",
    "\n",
    "    if normalize:\n",
    "        cm = cm.astype('float') / cm.sum(axis=1)[:, np.newaxis]\n",
    "        cm = cm.round(2)\n",
    "        #print(\"Normalized confusion matrix\")\n",
    "    else:\n",
    "        cm=cm\n",
    "        #print('Confusion matrix, without normalization')\n",
    "\n",
    "    #print(cm)\n",
    "\n",
    "    thresh = cm.max() / 2.\n",
    "    for i, j in itertools.product(range(cm.shape[0]), range(cm.shape[1])):\n",
    "        plt.text(j, i, cm[i, j],\n",
    "                 horizontalalignment=\"center\",\n",
    "                 color=\"white\" if cm[i, j] > thresh else \"black\")\n",
    "\n",
    "    plt.tight_layout()\n",
    "    plt.ylabel('True label')\n",
    "    plt.xlabel('Predicted label')"
   ]
  },
  {
   "cell_type": "code",
   "execution_count": 23,
   "metadata": {},
   "outputs": [],
   "source": [
    "from sklearn.metrics import confusion_matrix"
   ]
  },
  {
   "cell_type": "code",
   "execution_count": 24,
   "metadata": {},
   "outputs": [],
   "source": [
    "conf_mat = confusion_matrix(y_test, predictions)"
   ]
  },
  {
   "cell_type": "code",
   "execution_count": 25,
   "metadata": {},
   "outputs": [
    {
     "data": {
      "image/png": "[encoded data removed]",
      "text/plain": [
       "<Figure size 504x432 with 2 Axes>"
      ]
     },
     "metadata": {
      "needs_background": "light"
     },
     "output_type": "display_data"
    }
   ],
   "source": [
    "np.set_printoptions(precision=2)\n",
    "classes = ['not depressed', 'depressed']\n",
    "fig1 = plt.figure(figsize=(7,6))\n",
    "plot_confusion_matrix(conf_mat, classes=classes, title='Confusion matrix, without normalization')\n",
    "#fig1.savefig('../cm_wo_norm.jpg')\n",
    "plt.show()"
   ]
  },
  {
   "cell_type": "code",
   "execution_count": 26,
   "metadata": {},
   "outputs": [
    {
     "data": {
      "image/png": "[encoded data removed]",
      "text/plain": [
       "<Figure size 504x432 with 2 Axes>"
      ]
     },
     "metadata": {
      "needs_background": "light"
     },
     "output_type": "display_data"
    }
   ],
   "source": [
    "np.set_printoptions(precision=2)\n",
    "\n",
    "fig2 = plt.figure(figsize=(7,6))\n",
    "plot_confusion_matrix(conf_mat, classes=classes, normalize = True, title='Normalized Confusion matrix')\n",
    "fig2.savefig('../cm_norm.jpg')\n",
    "plt.show()"
   ]
  },
  {
   "cell_type": "code",
   "execution_count": 27,
   "metadata": {},
   "outputs": [],
   "source": [
    "model_json = model.to_json()\n",
    "with open('Bert_89.json', 'w') as json_file:\n",
    "    json_file.write(model_json)\n",
    "model.save_weights('Bert89.h5')"
   ]
  },
  {
   "cell_type": "code",
   "execution_count": null,
   "metadata": {},
   "outputs": [],
   "source": []
  }
 ],
 "metadata": {
  "kernelspec": {
   "display_name": "Python 3 (ipykernel)",
   "language": "python",
   "name": "python3"
  },
  "language_info": {
   "codemirror_mode": {
    "name": "ipython",
    "version": 3
   },
   "file_extension": ".py",
   "mimetype": "text/x-python",
   "name": "python",
   "nbconvert_exporter": "python",
   "pygments_lexer": "ipython3",
   "version": "3.9.12"
  }
 },
 "nbformat": 4,
 "nbformat_minor": 4
}
