{
 "cells": [
  {
   "cell_type": "code",
   "execution_count": 17,
   "metadata": {},
   "outputs": [],
   "source": [
    "import numpy as np \n",
    "import pandas as pd\n",
    "import re\n",
    "import string\n",
    "import gensim\n",
    "import pickle\n",
    "import matplotlib.pyplot as plt\n",
    "from nltk.tokenize import word_tokenize\n",
    "from nltk.corpus import stopwords\n",
    "from nltk.stem.wordnet import WordNetLemmatizer\n",
    "from nltk.corpus import stopwords\n",
    "from nltk.corpus import stopwords\n",
    "from nltk import punkt\n",
    "from nltk import wordnet\n",
    "\n",
    "from sklearn.model_selection import train_test_split\n",
    "\n",
    "from keras.preprocessing.text import Tokenizer\n",
    "from keras.preprocessing.sequence import pad_sequences\n",
    "from keras.models import Sequential\n",
    "from keras.layers import Dense, Embedding, LSTM, Dropout, GRU, Bidirectional, Conv1D, GlobalMaxPooling1D\n",
    "from keras.utils.np_utils import to_categorical\n",
    "from keras.callbacks import ReduceLROnPlateau, EarlyStopping"
   ]
  },
  {
   "cell_type": "code",
   "execution_count": 18,
   "metadata": {},
   "outputs": [
    {
     "name": "stdout",
     "output_type": "stream",
     "text": [
      "0    the real reason why you're sad? you're attache...\n",
      "1        my biggest problem is overthinking everything\n",
      "2    the worst sadness is the sadness you've taught...\n",
      "3    i cannot make you understand. i cannot make an...\n",
      "4    i don't think anyone really understands how ti...\n",
      "Name: tweet, dtype: object\n",
      "0    4695\n",
      "1    3440\n",
      "Name: target, dtype: int64\n"
     ]
    }
   ],
   "source": [
    "data_columns = [\"target\", \"tweet\", \"username\"]\n",
    "data_encoding = \"ISO-8859-1\"\n",
    "data=pd.read_csv('./TwitterDataset.csv',encoding = data_encoding, usecols=data_columns)\n",
    "\n",
    "X = data.iloc[:, 1]\n",
    "Y = data.iloc[:, 0]\n",
    "\n",
    "print(X.head())\n",
    "print(data['target'].value_counts())\n"
   ]
  },
  {
   "cell_type": "code",
   "execution_count": 19,
   "metadata": {},
   "outputs": [],
   "source": [
    "def preprocess(tweet):\n",
    "    username = \"@\\S+\"\n",
    "    new_tweet = re.sub(username, ' ',tweet) # Remove @tags\n",
    "    \n",
    "    new_tweet = new_tweet.lower() # Smart lowercase\n",
    "    \n",
    "    new_tweet = re.sub(r'\\d+', ' ', new_tweet) # Remove numbers\n",
    "    \n",
    "    text_noise = \"https?:\\S+|http?:\\S|[^A-Za-z0-9]+\" \n",
    "    new_tweet = re.sub(text_noise, ' ', new_tweet) # Remove links\n",
    "    \n",
    "    new_tweet = new_tweet.translate(new_tweet.maketrans('','',string.punctuation)) # Remove Punctuation\n",
    "    \n",
    "    new_tweet = new_tweet.strip() # Remove white spaces\n",
    "    \n",
    "    new_tweet = word_tokenize(new_tweet) # Tokenize into words\n",
    "    \n",
    "    new_tweet = ' '.join([word for word in new_tweet if word.isalpha()]) # Remove non alphabetic tokens\n",
    "    \n",
    "    stop_words = set(stopwords.words('english'))\n",
    "    new_tweet = ' '.join([word for word in new_tweet.split() if not word in stop_words]) # Filter out stop words\n",
    "    \n",
    "    lemmatizer = WordNetLemmatizer()\n",
    "    new_tweet = ' '.join([lemmatizer.lemmatize(word,\"v\") for word in new_tweet.split()]) # Word Lemmatization\n",
    "    \n",
    "    return new_tweet"
   ]
  },
  {
   "cell_type": "code",
   "execution_count": 20,
   "metadata": {},
   "outputs": [
    {
     "name": "stdout",
     "output_type": "stream",
     "text": [
      "0       real reason sad attach people distant pay atte...\n",
      "1                 biggest problem overthinking everything\n",
      "2                        worst sadness sadness teach hide\n",
      "3       make understand make anyone understand happen ...\n",
      "4       think anyone really understand tire act okay a...\n",
      "                              ...                        \n",
      "8130    cardi b want trademark catchphrase okurr think...\n",
      "8131    bet kellyanne george conway pretty disturb mak...\n",
      "8132    fan always ask watch old stuff finally answer ...\n",
      "8133    ray romano hilarious comedian kind soul rare n...\n",
      "8134    mueller report may finish mine next week johnn...\n",
      "Name: tweet, Length: 8135, dtype: object\n"
     ]
    }
   ],
   "source": [
    "X = X.apply(preprocess)\n",
    "\n",
    "print(X)"
   ]
  },
  {
   "cell_type": "code",
   "execution_count": 21,
   "metadata": {},
   "outputs": [
    {
     "name": "stdout",
     "output_type": "stream",
     "text": [
      "TRAIN size: 6508\n",
      "TEST size: 1627\n"
     ]
    }
   ],
   "source": [
    "X_train, X_test, Y_train, Y_test = train_test_split(X, Y, test_size=0.2, random_state=42)\n",
    "print(\"TRAIN size:\", len(X_train))\n",
    "print(\"TEST size:\", len(X_test))"
   ]
  },
  {
   "cell_type": "code",
   "execution_count": 22,
   "metadata": {},
   "outputs": [],
   "source": [
    "w2v_size = 300\n",
    "w2v_win = 7\n",
    "w2v_epoch = 32\n",
    "w2v_mincount = 10\n",
    "\n",
    "document = [tweet.split() for tweet in X_train]\n",
    "word2vec_model = gensim.models.word2vec.Word2Vec(vector_size=w2v_size,\n",
    "                                                window=w2v_win,\n",
    "                                                min_count=w2v_mincount,\n",
    "                                                workers=8)\n",
    "\n",
    "word2vec_model.build_vocab(document)"
   ]
  },
  {
   "cell_type": "code",
   "execution_count": 23,
   "metadata": {},
   "outputs": [
    {
     "name": "stdout",
     "output_type": "stream",
     "text": [
      "Vocabulary_size :::  964\n"
     ]
    }
   ],
   "source": [
    "words = word2vec_model.wv.index_to_key\n",
    "vocabulary_size = len(words)\n",
    "print('Vocabulary_size ::: ',vocabulary_size)"
   ]
  },
  {
   "cell_type": "code",
   "execution_count": 24,
   "metadata": {},
   "outputs": [
    {
     "data": {
      "text/plain": [
       "(1186002, 1851840)"
      ]
     },
     "execution_count": 24,
     "metadata": {},
     "output_type": "execute_result"
    }
   ],
   "source": [
    "word2vec_model.train(document,total_examples=len(document),epochs=w2v_epoch)"
   ]
  },
  {
   "cell_type": "code",
   "execution_count": 25,
   "metadata": {},
   "outputs": [
    {
     "name": "stdout",
     "output_type": "stream",
     "text": [
      "No.of unique tokens === 8635\n"
     ]
    }
   ],
   "source": [
    "max_sequence_length = 300\n",
    "vector_size = 300\n",
    "\n",
    "tokenizer = Tokenizer()\n",
    "tokenizer.fit_on_texts(X_train)\n",
    "unique_tokens = tokenizer.word_index\n",
    "tokens_size = len(unique_tokens)\n",
    "print('No.of unique tokens === %s'%tokens_size)"
   ]
  },
  {
   "cell_type": "code",
   "execution_count": 26,
   "metadata": {},
   "outputs": [],
   "source": [
    "X_train_padded = tokenizer.texts_to_sequences(X_train)\n",
    "X_train_padded = pad_sequences(X_train_padded,maxlen=max_sequence_length)"
   ]
  },
  {
   "cell_type": "code",
   "execution_count": 27,
   "metadata": {},
   "outputs": [
    {
     "name": "stdout",
     "output_type": "stream",
     "text": [
      "vector matrix shape ===  (8636, 300)\n"
     ]
    },
    {
     "data": {
      "text/plain": [
       "array([[ 0.        ,  0.        ,  0.        , ...,  0.        ,\n",
       "         0.        ,  0.        ],\n",
       "       [-0.1113467 ,  0.29305074, -0.08593185, ...,  0.04234217,\n",
       "         0.066323  , -0.03904191],\n",
       "       [-0.48540571,  0.01416034, -0.364999  , ..., -0.54108834,\n",
       "         0.42218277, -0.51971227],\n",
       "       ...,\n",
       "       [ 0.        ,  0.        ,  0.        , ...,  0.        ,\n",
       "         0.        ,  0.        ],\n",
       "       [ 0.        ,  0.        ,  0.        , ...,  0.        ,\n",
       "         0.        ,  0.        ],\n",
       "       [ 0.        ,  0.        ,  0.        , ...,  0.        ,\n",
       "         0.        ,  0.        ]])"
      ]
     },
     "execution_count": 27,
     "metadata": {},
     "output_type": "execute_result"
    }
   ],
   "source": [
    "vector_matrix = np.zeros((tokens_size+1,w2v_size))\n",
    "\n",
    "for word,i in tokenizer.word_index.items():\n",
    "    if word in word2vec_model.wv:\n",
    "        vector_matrix[i]=word2vec_model.wv[word]\n",
    "\n",
    "print('vector matrix shape === ',vector_matrix.shape)\n",
    "\n",
    "vector_matrix"
   ]
  },
  {
   "cell_type": "code",
   "execution_count": 28,
   "metadata": {},
   "outputs": [],
   "source": [
    "X_test_padded = tokenizer.texts_to_sequences(X_test)\n",
    "X_test_padded = pad_sequences(X_test_padded,maxlen=max_sequence_length)"
   ]
  },
  {
   "cell_type": "code",
   "execution_count": 49,
   "metadata": {},
   "outputs": [
    {
     "name": "stdout",
     "output_type": "stream",
     "text": [
      "WARNING:tensorflow:Layer lstm_17 will not use cuDNN kernels since it doesn't meet the criteria. It will use a generic GPU kernel as fallback when running on GPU.\n",
      "Model: \"sequential_18\"\n",
      "_________________________________________________________________\n",
      " Layer (type)                Output Shape              Param #   \n",
      "=================================================================\n",
      " embedding_18 (Embedding)    (None, 300, 300)          2590800   \n",
      "                                                                 \n",
      " dropout_18 (Dropout)        (None, 300, 300)          0         \n",
      "                                                                 \n",
      " lstm_17 (LSTM)              (None, 100)               160400    \n",
      "                                                                 \n",
      " dense_17 (Dense)            (None, 1)                 101       \n",
      "                                                                 \n",
      "=================================================================\n",
      "Total params: 2,751,301\n",
      "Trainable params: 160,501\n",
      "Non-trainable params: 2,590,800\n",
      "_________________________________________________________________\n"
     ]
    }
   ],
   "source": [
    "model = Sequential()\n",
    "model.add(Embedding(tokens_size+1,w2v_size, weights=[vector_matrix],input_length=max_sequence_length,trainable=False))\n",
    "model.add(Dropout(0.5))\n",
    "model.add(LSTM(100, dropout=0.2, recurrent_dropout=0.2))\n",
    "model.add(Dense(1, activation='sigmoid'))\n",
    "\n",
    "model.summary()"
   ]
  },
  {
   "cell_type": "code",
   "execution_count": 37,
   "metadata": {},
   "outputs": [],
   "source": [
    "model.compile(loss='binary_crossentropy',\n",
    "              optimizer=\"adam\",\n",
    "              metrics=['accuracy'])\n",
    "\n",
    "callbacks = [ ReduceLROnPlateau(monitor='val_loss', patience=5, cooldown=0),\n",
    "              EarlyStopping(monitor='val_acc', min_delta=1e-4, patience=5)]\n"
   ]
  },
  {
   "cell_type": "code",
   "execution_count": 38,
   "metadata": {},
   "outputs": [
    {
     "name": "stdout",
     "output_type": "stream",
     "text": [
      "Epoch 1/50\n",
      "46/46 [==============================] - ETA: 0s - loss: 0.4146 - accuracy: 0.8084WARNING:tensorflow:Early stopping conditioned on metric `val_acc` which is not available. Available metrics are: loss,accuracy,val_loss,val_accuracy,lr\n",
      "46/46 [==============================] - 53s 1s/step - loss: 0.4146 - accuracy: 0.8084 - val_loss: 0.3448 - val_accuracy: 0.8602 - lr: 0.0010\n",
      "Epoch 2/50\n",
      "46/46 [==============================] - ETA: 0s - loss: 0.3342 - accuracy: 0.8494WARNING:tensorflow:Early stopping conditioned on metric `val_acc` which is not available. Available metrics are: loss,accuracy,val_loss,val_accuracy,lr\n",
      "46/46 [==============================] - 52s 1s/step - loss: 0.3342 - accuracy: 0.8494 - val_loss: 0.3079 - val_accuracy: 0.8694 - lr: 0.0010\n",
      "Epoch 3/50\n",
      "46/46 [==============================] - ETA: 0s - loss: 0.3220 - accuracy: 0.8549WARNING:tensorflow:Early stopping conditioned on metric `val_acc` which is not available. Available metrics are: loss,accuracy,val_loss,val_accuracy,lr\n",
      "46/46 [==============================] - 50s 1s/step - loss: 0.3220 - accuracy: 0.8549 - val_loss: 0.3075 - val_accuracy: 0.8618 - lr: 0.0010\n",
      "Epoch 4/50\n",
      "46/46 [==============================] - ETA: 0s - loss: 0.3149 - accuracy: 0.8622WARNING:tensorflow:Early stopping conditioned on metric `val_acc` which is not available. Available metrics are: loss,accuracy,val_loss,val_accuracy,lr\n",
      "46/46 [==============================] - 50s 1s/step - loss: 0.3149 - accuracy: 0.8622 - val_loss: 0.3095 - val_accuracy: 0.8618 - lr: 0.0010\n",
      "Epoch 5/50\n",
      "46/46 [==============================] - ETA: 0s - loss: 0.3098 - accuracy: 0.8663WARNING:tensorflow:Early stopping conditioned on metric `val_acc` which is not available. Available metrics are: loss,accuracy,val_loss,val_accuracy,lr\n",
      "46/46 [==============================] - 52s 1s/step - loss: 0.3098 - accuracy: 0.8663 - val_loss: 0.2838 - val_accuracy: 0.8817 - lr: 0.0010\n",
      "Epoch 6/50\n",
      "46/46 [==============================] - ETA: 0s - loss: 0.3041 - accuracy: 0.8675WARNING:tensorflow:Early stopping conditioned on metric `val_acc` which is not available. Available metrics are: loss,accuracy,val_loss,val_accuracy,lr\n",
      "46/46 [==============================] - 51s 1s/step - loss: 0.3041 - accuracy: 0.8675 - val_loss: 0.2764 - val_accuracy: 0.8848 - lr: 0.0010\n",
      "Epoch 7/50\n",
      "46/46 [==============================] - ETA: 0s - loss: 0.3022 - accuracy: 0.8675WARNING:tensorflow:Early stopping conditioned on metric `val_acc` which is not available. Available metrics are: loss,accuracy,val_loss,val_accuracy,lr\n",
      "46/46 [==============================] - 50s 1s/step - loss: 0.3022 - accuracy: 0.8675 - val_loss: 0.2741 - val_accuracy: 0.8894 - lr: 0.0010\n",
      "Epoch 8/50\n",
      "46/46 [==============================] - ETA: 0s - loss: 0.2950 - accuracy: 0.8687WARNING:tensorflow:Early stopping conditioned on metric `val_acc` which is not available. Available metrics are: loss,accuracy,val_loss,val_accuracy,lr\n",
      "46/46 [==============================] - 52s 1s/step - loss: 0.2950 - accuracy: 0.8687 - val_loss: 0.2790 - val_accuracy: 0.8786 - lr: 0.0010\n",
      "Epoch 9/50\n",
      "46/46 [==============================] - ETA: 0s - loss: 0.2882 - accuracy: 0.8716WARNING:tensorflow:Early stopping conditioned on metric `val_acc` which is not available. Available metrics are: loss,accuracy,val_loss,val_accuracy,lr\n",
      "46/46 [==============================] - 50s 1s/step - loss: 0.2882 - accuracy: 0.8716 - val_loss: 0.2708 - val_accuracy: 0.8833 - lr: 0.0010\n",
      "Epoch 10/50\n",
      "46/46 [==============================] - ETA: 0s - loss: 0.2810 - accuracy: 0.8742WARNING:tensorflow:Early stopping conditioned on metric `val_acc` which is not available. Available metrics are: loss,accuracy,val_loss,val_accuracy,lr\n",
      "46/46 [==============================] - 49s 1s/step - loss: 0.2810 - accuracy: 0.8742 - val_loss: 0.2708 - val_accuracy: 0.8848 - lr: 0.0010\n",
      "Epoch 11/50\n",
      "46/46 [==============================] - ETA: 0s - loss: 0.2818 - accuracy: 0.8752WARNING:tensorflow:Early stopping conditioned on metric `val_acc` which is not available. Available metrics are: loss,accuracy,val_loss,val_accuracy,lr\n",
      "46/46 [==============================] - 50s 1s/step - loss: 0.2818 - accuracy: 0.8752 - val_loss: 0.2675 - val_accuracy: 0.8894 - lr: 0.0010\n",
      "Epoch 12/50\n",
      "46/46 [==============================] - ETA: 0s - loss: 0.2722 - accuracy: 0.8795WARNING:tensorflow:Early stopping conditioned on metric `val_acc` which is not available. Available metrics are: loss,accuracy,val_loss,val_accuracy,lr\n",
      "46/46 [==============================] - 50s 1s/step - loss: 0.2722 - accuracy: 0.8795 - val_loss: 0.2653 - val_accuracy: 0.8879 - lr: 0.0010\n",
      "Epoch 13/50\n",
      "46/46 [==============================] - ETA: 0s - loss: 0.2701 - accuracy: 0.8803WARNING:tensorflow:Early stopping conditioned on metric `val_acc` which is not available. Available metrics are: loss,accuracy,val_loss,val_accuracy,lr\n",
      "46/46 [==============================] - 49s 1s/step - loss: 0.2701 - accuracy: 0.8803 - val_loss: 0.2742 - val_accuracy: 0.8863 - lr: 0.0010\n",
      "Epoch 14/50\n",
      "46/46 [==============================] - ETA: 0s - loss: 0.2651 - accuracy: 0.8822WARNING:tensorflow:Early stopping conditioned on metric `val_acc` which is not available. Available metrics are: loss,accuracy,val_loss,val_accuracy,lr\n",
      "46/46 [==============================] - 51s 1s/step - loss: 0.2651 - accuracy: 0.8822 - val_loss: 0.2846 - val_accuracy: 0.8725 - lr: 0.0010\n",
      "Epoch 15/50\n",
      "46/46 [==============================] - ETA: 0s - loss: 0.2603 - accuracy: 0.8834WARNING:tensorflow:Early stopping conditioned on metric `val_acc` which is not available. Available metrics are: loss,accuracy,val_loss,val_accuracy,lr\n",
      "46/46 [==============================] - 51s 1s/step - loss: 0.2603 - accuracy: 0.8834 - val_loss: 0.2689 - val_accuracy: 0.8909 - lr: 0.0010\n",
      "Epoch 16/50\n",
      "46/46 [==============================] - ETA: 0s - loss: 0.2536 - accuracy: 0.8890WARNING:tensorflow:Early stopping conditioned on metric `val_acc` which is not available. Available metrics are: loss,accuracy,val_loss,val_accuracy,lr\n",
      "46/46 [==============================] - 51s 1s/step - loss: 0.2536 - accuracy: 0.8890 - val_loss: 0.2602 - val_accuracy: 0.8894 - lr: 0.0010\n",
      "Epoch 17/50\n",
      "46/46 [==============================] - ETA: 0s - loss: 0.2498 - accuracy: 0.8897WARNING:tensorflow:Early stopping conditioned on metric `val_acc` which is not available. Available metrics are: loss,accuracy,val_loss,val_accuracy,lr\n",
      "46/46 [==============================] - 50s 1s/step - loss: 0.2498 - accuracy: 0.8897 - val_loss: 0.2649 - val_accuracy: 0.8879 - lr: 0.0010\n",
      "Epoch 18/50\n",
      "46/46 [==============================] - ETA: 0s - loss: 0.2460 - accuracy: 0.8947WARNING:tensorflow:Early stopping conditioned on metric `val_acc` which is not available. Available metrics are: loss,accuracy,val_loss,val_accuracy,lr\n",
      "46/46 [==============================] - 51s 1s/step - loss: 0.2460 - accuracy: 0.8947 - val_loss: 0.2607 - val_accuracy: 0.8971 - lr: 0.0010\n",
      "Epoch 19/50\n",
      "46/46 [==============================] - ETA: 0s - loss: 0.2417 - accuracy: 0.8929WARNING:tensorflow:Early stopping conditioned on metric `val_acc` which is not available. Available metrics are: loss,accuracy,val_loss,val_accuracy,lr\n",
      "46/46 [==============================] - 49s 1s/step - loss: 0.2417 - accuracy: 0.8929 - val_loss: 0.2564 - val_accuracy: 0.8971 - lr: 0.0010\n",
      "Epoch 20/50\n",
      "46/46 [==============================] - ETA: 0s - loss: 0.2387 - accuracy: 0.8953WARNING:tensorflow:Early stopping conditioned on metric `val_acc` which is not available. Available metrics are: loss,accuracy,val_loss,val_accuracy,lr\n",
      "46/46 [==============================] - 52s 1s/step - loss: 0.2387 - accuracy: 0.8953 - val_loss: 0.2718 - val_accuracy: 0.8925 - lr: 0.0010\n",
      "Epoch 21/50\n",
      "46/46 [==============================] - ETA: 0s - loss: 0.2299 - accuracy: 0.8996WARNING:tensorflow:Early stopping conditioned on metric `val_acc` which is not available. Available metrics are: loss,accuracy,val_loss,val_accuracy,lr\n",
      "46/46 [==============================] - 49s 1s/step - loss: 0.2299 - accuracy: 0.8996 - val_loss: 0.2745 - val_accuracy: 0.8863 - lr: 0.0010\n",
      "Epoch 22/50\n"
     ]
    },
    {
     "name": "stdout",
     "output_type": "stream",
     "text": [
      "46/46 [==============================] - ETA: 0s - loss: 0.2276 - accuracy: 0.9032WARNING:tensorflow:Early stopping conditioned on metric `val_acc` which is not available. Available metrics are: loss,accuracy,val_loss,val_accuracy,lr\n",
      "46/46 [==============================] - 52s 1s/step - loss: 0.2276 - accuracy: 0.9032 - val_loss: 0.2690 - val_accuracy: 0.8955 - lr: 0.0010\n",
      "Epoch 23/50\n",
      "46/46 [==============================] - ETA: 0s - loss: 0.2217 - accuracy: 0.9040WARNING:tensorflow:Early stopping conditioned on metric `val_acc` which is not available. Available metrics are: loss,accuracy,val_loss,val_accuracy,lr\n",
      "46/46 [==============================] - 50s 1s/step - loss: 0.2217 - accuracy: 0.9040 - val_loss: 0.2747 - val_accuracy: 0.8955 - lr: 0.0010\n",
      "Epoch 24/50\n",
      "46/46 [==============================] - ETA: 0s - loss: 0.2157 - accuracy: 0.9071WARNING:tensorflow:Early stopping conditioned on metric `val_acc` which is not available. Available metrics are: loss,accuracy,val_loss,val_accuracy,lr\n",
      "46/46 [==============================] - 52s 1s/step - loss: 0.2157 - accuracy: 0.9071 - val_loss: 0.2845 - val_accuracy: 0.8848 - lr: 0.0010\n",
      "Epoch 25/50\n",
      "46/46 [==============================] - ETA: 0s - loss: 0.2072 - accuracy: 0.9087WARNING:tensorflow:Early stopping conditioned on metric `val_acc` which is not available. Available metrics are: loss,accuracy,val_loss,val_accuracy,lr\n",
      "46/46 [==============================] - 50s 1s/step - loss: 0.2072 - accuracy: 0.9087 - val_loss: 0.2680 - val_accuracy: 0.8986 - lr: 1.0000e-04\n",
      "Epoch 26/50\n",
      "46/46 [==============================] - ETA: 0s - loss: 0.2036 - accuracy: 0.9117WARNING:tensorflow:Early stopping conditioned on metric `val_acc` which is not available. Available metrics are: loss,accuracy,val_loss,val_accuracy,lr\n",
      "46/46 [==============================] - 49s 1s/step - loss: 0.2036 - accuracy: 0.9117 - val_loss: 0.2679 - val_accuracy: 0.9002 - lr: 1.0000e-04\n",
      "Epoch 27/50\n",
      "46/46 [==============================] - ETA: 0s - loss: 0.2052 - accuracy: 0.9099WARNING:tensorflow:Early stopping conditioned on metric `val_acc` which is not available. Available metrics are: loss,accuracy,val_loss,val_accuracy,lr\n",
      "46/46 [==============================] - 51s 1s/step - loss: 0.2052 - accuracy: 0.9099 - val_loss: 0.2692 - val_accuracy: 0.8986 - lr: 1.0000e-04\n",
      "Epoch 28/50\n",
      "46/46 [==============================] - ETA: 0s - loss: 0.2025 - accuracy: 0.9088WARNING:tensorflow:Early stopping conditioned on metric `val_acc` which is not available. Available metrics are: loss,accuracy,val_loss,val_accuracy,lr\n",
      "46/46 [==============================] - 49s 1s/step - loss: 0.2025 - accuracy: 0.9088 - val_loss: 0.2695 - val_accuracy: 0.9002 - lr: 1.0000e-04\n",
      "Epoch 29/50\n",
      "46/46 [==============================] - ETA: 0s - loss: 0.2050 - accuracy: 0.9088WARNING:tensorflow:Early stopping conditioned on metric `val_acc` which is not available. Available metrics are: loss,accuracy,val_loss,val_accuracy,lr\n",
      "46/46 [==============================] - 50s 1s/step - loss: 0.2050 - accuracy: 0.9088 - val_loss: 0.2699 - val_accuracy: 0.8986 - lr: 1.0000e-04\n",
      "Epoch 30/50\n",
      "46/46 [==============================] - ETA: 0s - loss: 0.2032 - accuracy: 0.9138WARNING:tensorflow:Early stopping conditioned on metric `val_acc` which is not available. Available metrics are: loss,accuracy,val_loss,val_accuracy,lr\n",
      "46/46 [==============================] - 49s 1s/step - loss: 0.2032 - accuracy: 0.9138 - val_loss: 0.2698 - val_accuracy: 0.8986 - lr: 1.0000e-05\n",
      "Epoch 31/50\n",
      "46/46 [==============================] - ETA: 0s - loss: 0.2051 - accuracy: 0.9105WARNING:tensorflow:Early stopping conditioned on metric `val_acc` which is not available. Available metrics are: loss,accuracy,val_loss,val_accuracy,lr\n",
      "46/46 [==============================] - 49s 1s/step - loss: 0.2051 - accuracy: 0.9105 - val_loss: 0.2692 - val_accuracy: 0.8986 - lr: 1.0000e-05\n",
      "Epoch 32/50\n",
      "46/46 [==============================] - ETA: 0s - loss: 0.2048 - accuracy: 0.9107WARNING:tensorflow:Early stopping conditioned on metric `val_acc` which is not available. Available metrics are: loss,accuracy,val_loss,val_accuracy,lr\n",
      "46/46 [==============================] - 50s 1s/step - loss: 0.2048 - accuracy: 0.9107 - val_loss: 0.2690 - val_accuracy: 0.8986 - lr: 1.0000e-05\n",
      "Epoch 33/50\n",
      "46/46 [==============================] - ETA: 0s - loss: 0.2004 - accuracy: 0.9141WARNING:tensorflow:Early stopping conditioned on metric `val_acc` which is not available. Available metrics are: loss,accuracy,val_loss,val_accuracy,lr\n",
      "46/46 [==============================] - 50s 1s/step - loss: 0.2004 - accuracy: 0.9141 - val_loss: 0.2695 - val_accuracy: 0.8986 - lr: 1.0000e-05\n",
      "Epoch 34/50\n",
      "46/46 [==============================] - ETA: 0s - loss: 0.2039 - accuracy: 0.9109WARNING:tensorflow:Early stopping conditioned on metric `val_acc` which is not available. Available metrics are: loss,accuracy,val_loss,val_accuracy,lr\n",
      "46/46 [==============================] - 50s 1s/step - loss: 0.2039 - accuracy: 0.9109 - val_loss: 0.2694 - val_accuracy: 0.8986 - lr: 1.0000e-05\n",
      "Epoch 35/50\n",
      "46/46 [==============================] - ETA: 0s - loss: 0.2021 - accuracy: 0.9119WARNING:tensorflow:Early stopping conditioned on metric `val_acc` which is not available. Available metrics are: loss,accuracy,val_loss,val_accuracy,lr\n",
      "46/46 [==============================] - 51s 1s/step - loss: 0.2021 - accuracy: 0.9119 - val_loss: 0.2694 - val_accuracy: 0.8986 - lr: 1.0000e-06\n",
      "Epoch 36/50\n",
      "46/46 [==============================] - ETA: 0s - loss: 0.2039 - accuracy: 0.9107WARNING:tensorflow:Early stopping conditioned on metric `val_acc` which is not available. Available metrics are: loss,accuracy,val_loss,val_accuracy,lr\n",
      "46/46 [==============================] - 50s 1s/step - loss: 0.2039 - accuracy: 0.9107 - val_loss: 0.2694 - val_accuracy: 0.8986 - lr: 1.0000e-06\n",
      "Epoch 37/50\n",
      "46/46 [==============================] - ETA: 0s - loss: 0.2014 - accuracy: 0.9174WARNING:tensorflow:Early stopping conditioned on metric `val_acc` which is not available. Available metrics are: loss,accuracy,val_loss,val_accuracy,lr\n",
      "46/46 [==============================] - 51s 1s/step - loss: 0.2014 - accuracy: 0.9174 - val_loss: 0.2694 - val_accuracy: 0.8986 - lr: 1.0000e-06\n",
      "Epoch 38/50\n",
      "46/46 [==============================] - ETA: 0s - loss: 0.1983 - accuracy: 0.9155WARNING:tensorflow:Early stopping conditioned on metric `val_acc` which is not available. Available metrics are: loss,accuracy,val_loss,val_accuracy,lr\n",
      "46/46 [==============================] - 49s 1s/step - loss: 0.1983 - accuracy: 0.9155 - val_loss: 0.2695 - val_accuracy: 0.8986 - lr: 1.0000e-06\n",
      "Epoch 39/50\n",
      "46/46 [==============================] - ETA: 0s - loss: 0.1975 - accuracy: 0.9134WARNING:tensorflow:Early stopping conditioned on metric `val_acc` which is not available. Available metrics are: loss,accuracy,val_loss,val_accuracy,lr\n",
      "46/46 [==============================] - 49s 1s/step - loss: 0.1975 - accuracy: 0.9134 - val_loss: 0.2695 - val_accuracy: 0.8986 - lr: 1.0000e-06\n",
      "Epoch 40/50\n",
      "46/46 [==============================] - ETA: 0s - loss: 0.1983 - accuracy: 0.9136WARNING:tensorflow:Early stopping conditioned on metric `val_acc` which is not available. Available metrics are: loss,accuracy,val_loss,val_accuracy,lr\n",
      "46/46 [==============================] - 51s 1s/step - loss: 0.1983 - accuracy: 0.9136 - val_loss: 0.2695 - val_accuracy: 0.8986 - lr: 1.0000e-07\n",
      "Epoch 41/50\n",
      "46/46 [==============================] - ETA: 0s - loss: 0.2015 - accuracy: 0.9116WARNING:tensorflow:Early stopping conditioned on metric `val_acc` which is not available. Available metrics are: loss,accuracy,val_loss,val_accuracy,lr\n",
      "46/46 [==============================] - 50s 1s/step - loss: 0.2015 - accuracy: 0.9116 - val_loss: 0.2695 - val_accuracy: 0.8986 - lr: 1.0000e-07\n",
      "Epoch 42/50\n",
      "46/46 [==============================] - ETA: 0s - loss: 0.2017 - accuracy: 0.9121WARNING:tensorflow:Early stopping conditioned on metric `val_acc` which is not available. Available metrics are: loss,accuracy,val_loss,val_accuracy,lr\n",
      "46/46 [==============================] - 49s 1s/step - loss: 0.2017 - accuracy: 0.9121 - val_loss: 0.2695 - val_accuracy: 0.8986 - lr: 1.0000e-07\n"
     ]
    },
    {
     "name": "stdout",
     "output_type": "stream",
     "text": [
      "Epoch 43/50\n",
      "46/46 [==============================] - ETA: 0s - loss: 0.2024 - accuracy: 0.9081WARNING:tensorflow:Early stopping conditioned on metric `val_acc` which is not available. Available metrics are: loss,accuracy,val_loss,val_accuracy,lr\n",
      "46/46 [==============================] - 51s 1s/step - loss: 0.2024 - accuracy: 0.9081 - val_loss: 0.2695 - val_accuracy: 0.8986 - lr: 1.0000e-07\n",
      "Epoch 44/50\n",
      "46/46 [==============================] - ETA: 0s - loss: 0.2027 - accuracy: 0.9141WARNING:tensorflow:Early stopping conditioned on metric `val_acc` which is not available. Available metrics are: loss,accuracy,val_loss,val_accuracy,lr\n",
      "46/46 [==============================] - 50s 1s/step - loss: 0.2027 - accuracy: 0.9141 - val_loss: 0.2695 - val_accuracy: 0.8986 - lr: 1.0000e-07\n",
      "Epoch 45/50\n",
      "46/46 [==============================] - ETA: 0s - loss: 0.2005 - accuracy: 0.9126WARNING:tensorflow:Early stopping conditioned on metric `val_acc` which is not available. Available metrics are: loss,accuracy,val_loss,val_accuracy,lr\n",
      "46/46 [==============================] - 50s 1s/step - loss: 0.2005 - accuracy: 0.9126 - val_loss: 0.2695 - val_accuracy: 0.8986 - lr: 1.0000e-08\n",
      "Epoch 46/50\n",
      "46/46 [==============================] - ETA: 0s - loss: 0.1990 - accuracy: 0.9139WARNING:tensorflow:Early stopping conditioned on metric `val_acc` which is not available. Available metrics are: loss,accuracy,val_loss,val_accuracy,lr\n",
      "46/46 [==============================] - 51s 1s/step - loss: 0.1990 - accuracy: 0.9139 - val_loss: 0.2695 - val_accuracy: 0.8986 - lr: 1.0000e-08\n",
      "Epoch 47/50\n",
      "46/46 [==============================] - ETA: 0s - loss: 0.2032 - accuracy: 0.9104WARNING:tensorflow:Early stopping conditioned on metric `val_acc` which is not available. Available metrics are: loss,accuracy,val_loss,val_accuracy,lr\n",
      "46/46 [==============================] - 50s 1s/step - loss: 0.2032 - accuracy: 0.9104 - val_loss: 0.2695 - val_accuracy: 0.8986 - lr: 1.0000e-08\n",
      "Epoch 48/50\n",
      "46/46 [==============================] - ETA: 0s - loss: 0.1987 - accuracy: 0.9129WARNING:tensorflow:Early stopping conditioned on metric `val_acc` which is not available. Available metrics are: loss,accuracy,val_loss,val_accuracy,lr\n",
      "46/46 [==============================] - 50s 1s/step - loss: 0.1987 - accuracy: 0.9129 - val_loss: 0.2695 - val_accuracy: 0.8986 - lr: 1.0000e-08\n",
      "Epoch 49/50\n",
      "46/46 [==============================] - ETA: 0s - loss: 0.2014 - accuracy: 0.9114WARNING:tensorflow:Early stopping conditioned on metric `val_acc` which is not available. Available metrics are: loss,accuracy,val_loss,val_accuracy,lr\n",
      "46/46 [==============================] - 49s 1s/step - loss: 0.2014 - accuracy: 0.9114 - val_loss: 0.2695 - val_accuracy: 0.8986 - lr: 1.0000e-08\n",
      "Epoch 50/50\n",
      "46/46 [==============================] - ETA: 0s - loss: 0.2015 - accuracy: 0.9162WARNING:tensorflow:Early stopping conditioned on metric `val_acc` which is not available. Available metrics are: loss,accuracy,val_loss,val_accuracy,lr\n",
      "46/46 [==============================] - 50s 1s/step - loss: 0.2015 - accuracy: 0.9162 - val_loss: 0.2695 - val_accuracy: 0.8986 - lr: 1.0000e-09\n",
      "CPU times: total: 1h 19min 2s\n",
      "Wall time: 41min 59s\n"
     ]
    }
   ],
   "source": [
    "%%time\n",
    "history = model.fit(X_train_padded, Y_train,\n",
    "                    batch_size=128,\n",
    "                    epochs=50,\n",
    "                    validation_split=0.1,\n",
    "                    verbose=1,\n",
    "                    callbacks=callbacks)"
   ]
  },
  {
   "cell_type": "code",
   "execution_count": 39,
   "metadata": {},
   "outputs": [
    {
     "name": "stdout",
     "output_type": "stream",
     "text": [
      "204/204 [==============================] - 37s 180ms/step - loss: 0.1855 - accuracy: 0.9218\n"
     ]
    },
    {
     "data": {
      "text/plain": [
       "[0.18548548221588135, 0.9217885732650757]"
      ]
     },
     "metadata": {},
     "output_type": "display_data"
    },
    {
     "data": {
      "text/plain": [
       "'train'"
      ]
     },
     "metadata": {},
     "output_type": "display_data"
    },
    {
     "name": "stdout",
     "output_type": "stream",
     "text": [
      "51/51 [==============================] - 9s 177ms/step - loss: 0.3739 - accuracy: 0.8347\n"
     ]
    },
    {
     "data": {
      "text/plain": [
       "[0.37394848465919495, 0.8346650004386902]"
      ]
     },
     "metadata": {},
     "output_type": "display_data"
    },
    {
     "data": {
      "text/plain": [
       "'test'"
      ]
     },
     "metadata": {},
     "output_type": "display_data"
    }
   ],
   "source": [
    "#best_model=rand_search.best_estimator_.model\n",
    "display(model.evaluate(X_train_padded,Y_train), 'train')\n",
    "display(model.evaluate(X_test_padded, Y_test), 'test')"
   ]
  },
  {
   "cell_type": "code",
   "execution_count": 40,
   "metadata": {},
   "outputs": [
    {
     "name": "stdout",
     "output_type": "stream",
     "text": [
      "               precision    recall  f1-score   support\n",
      "\n",
      "not depressed       0.94      0.92      0.93      3777\n",
      "    depressed       0.90      0.92      0.91      2731\n",
      "\n",
      "     accuracy                           0.92      6508\n",
      "    macro avg       0.92      0.92      0.92      6508\n",
      " weighted avg       0.92      0.92      0.92      6508\n",
      "\n"
     ]
    }
   ],
   "source": [
    "from sklearn.metrics import classification_report\n",
    "\n",
    "predictions = model.predict(X_train_padded)\n",
    "predictions = [1 if p >= 0.5 else 0 for p in predictions]\n",
    "\n",
    "print(classification_report(Y_train, predictions, target_names=['not depressed', 'depressed']))"
   ]
  },
  {
   "cell_type": "code",
   "execution_count": 41,
   "metadata": {},
   "outputs": [
    {
     "name": "stdout",
     "output_type": "stream",
     "text": [
      "               precision    recall  f1-score   support\n",
      "\n",
      "not depressed       0.87      0.84      0.85       918\n",
      "    depressed       0.80      0.83      0.81       709\n",
      "\n",
      "     accuracy                           0.83      1627\n",
      "    macro avg       0.83      0.83      0.83      1627\n",
      " weighted avg       0.84      0.83      0.83      1627\n",
      "\n"
     ]
    }
   ],
   "source": [
    "predictions = model.predict(X_test_padded)\n",
    "predictions = [1 if p >= 0.5 else 0 for p in predictions]\n",
    "\n",
    "print(classification_report(Y_test, predictions, target_names=['not depressed', 'depressed']))"
   ]
  },
  {
   "cell_type": "code",
   "execution_count": 43,
   "metadata": {},
   "outputs": [],
   "source": [
    "model_json = model.to_json()\n",
    "with open('LSTM_Model.json', 'w') as json_file:\n",
    "    json_file.write(model_json)\n",
    "model.save_weights('LSTM_weights.h5')"
   ]
  },
  {
   "cell_type": "code",
   "execution_count": 45,
   "metadata": {},
   "outputs": [],
   "source": [
    "from keras.layers.convolutional import MaxPooling1D"
   ]
  },
  {
   "cell_type": "code",
   "execution_count": 48,
   "metadata": {},
   "outputs": [
    {
     "name": "stdout",
     "output_type": "stream",
     "text": [
      "WARNING:tensorflow:Layer lstm_16 will not use cuDNN kernels since it doesn't meet the criteria. It will use a generic GPU kernel as fallback when running on GPU.\n",
      "Model: \"sequential_17\"\n",
      "_________________________________________________________________\n",
      " Layer (type)                Output Shape              Param #   \n",
      "=================================================================\n",
      " embedding_17 (Embedding)    (None, 300, 300)          2590800   \n",
      "                                                                 \n",
      " dropout_17 (Dropout)        (None, 300, 300)          0         \n",
      "                                                                 \n",
      " conv1d_2 (Conv1D)           (None, 300, 300)          270300    \n",
      "                                                                 \n",
      " max_pooling1d_1 (MaxPooling  (None, 150, 300)         0         \n",
      " 1D)                                                             \n",
      "                                                                 \n",
      " lstm_16 (LSTM)              (None, 100)               160400    \n",
      "                                                                 \n",
      " dense_16 (Dense)            (None, 1)                 101       \n",
      "                                                                 \n",
      "=================================================================\n",
      "Total params: 3,021,601\n",
      "Trainable params: 430,801\n",
      "Non-trainable params: 2,590,800\n",
      "_________________________________________________________________\n"
     ]
    }
   ],
   "source": [
    "model2 = Sequential()\n",
    "model2.add(Embedding(tokens_size+1,w2v_size, weights=[vector_matrix],input_length=max_sequence_length,trainable=False))\n",
    "model2.add(Dropout(0.5))\n",
    "model2.add(Conv1D(filters=300, kernel_size=3, padding='same', activation='relu'))\n",
    "model2.add(MaxPooling1D(pool_size=2))\n",
    "model2.add(LSTM(100, dropout=0.2, recurrent_dropout=0.2))\n",
    "model2.add(Dense(1, activation='sigmoid'))\n",
    "\n",
    "model2.summary()"
   ]
  },
  {
   "cell_type": "code",
   "execution_count": 50,
   "metadata": {},
   "outputs": [],
   "source": [
    "model2.compile(loss='binary_crossentropy',\n",
    "              optimizer=\"adam\",\n",
    "              metrics=['accuracy'])\n",
    "\n",
    "callbacks = [ ReduceLROnPlateau(monitor='val_loss', patience=5, cooldown=0),\n",
    "              EarlyStopping(monitor='val_acc', min_delta=1e-4, patience=5)]\n"
   ]
  },
  {
   "cell_type": "code",
   "execution_count": 52,
   "metadata": {},
   "outputs": [
    {
     "name": "stdout",
     "output_type": "stream",
     "text": [
      "Epoch 1/80\n",
      "46/46 [==============================] - ETA: 0s - loss: 0.3858 - accuracy: 0.8223WARNING:tensorflow:Early stopping conditioned on metric `val_acc` which is not available. Available metrics are: loss,accuracy,val_loss,val_accuracy,lr\n",
      "46/46 [==============================] - 46s 983ms/step - loss: 0.3858 - accuracy: 0.8223 - val_loss: 0.3136 - val_accuracy: 0.8633 - lr: 0.0010\n",
      "Epoch 2/80\n",
      "46/46 [==============================] - ETA: 0s - loss: 0.3225 - accuracy: 0.8614WARNING:tensorflow:Early stopping conditioned on metric `val_acc` which is not available. Available metrics are: loss,accuracy,val_loss,val_accuracy,lr\n",
      "46/46 [==============================] - 45s 986ms/step - loss: 0.3225 - accuracy: 0.8614 - val_loss: 0.3071 - val_accuracy: 0.8648 - lr: 0.0010\n",
      "Epoch 3/80\n",
      "46/46 [==============================] - ETA: 0s - loss: 0.3097 - accuracy: 0.8658WARNING:tensorflow:Early stopping conditioned on metric `val_acc` which is not available. Available metrics are: loss,accuracy,val_loss,val_accuracy,lr\n",
      "46/46 [==============================] - 46s 993ms/step - loss: 0.3097 - accuracy: 0.8658 - val_loss: 0.3059 - val_accuracy: 0.8633 - lr: 0.0010\n",
      "Epoch 4/80\n",
      "46/46 [==============================] - ETA: 0s - loss: 0.2973 - accuracy: 0.8687WARNING:tensorflow:Early stopping conditioned on metric `val_acc` which is not available. Available metrics are: loss,accuracy,val_loss,val_accuracy,lr\n",
      "46/46 [==============================] - 45s 982ms/step - loss: 0.2973 - accuracy: 0.8687 - val_loss: 0.3030 - val_accuracy: 0.8556 - lr: 0.0010\n",
      "Epoch 5/80\n",
      "46/46 [==============================] - ETA: 0s - loss: 0.2896 - accuracy: 0.8730WARNING:tensorflow:Early stopping conditioned on metric `val_acc` which is not available. Available metrics are: loss,accuracy,val_loss,val_accuracy,lr\n",
      "46/46 [==============================] - 46s 995ms/step - loss: 0.2896 - accuracy: 0.8730 - val_loss: 0.3034 - val_accuracy: 0.8633 - lr: 0.0010\n",
      "Epoch 6/80\n",
      "46/46 [==============================] - ETA: 0s - loss: 0.2813 - accuracy: 0.8762WARNING:tensorflow:Early stopping conditioned on metric `val_acc` which is not available. Available metrics are: loss,accuracy,val_loss,val_accuracy,lr\n",
      "46/46 [==============================] - 46s 994ms/step - loss: 0.2813 - accuracy: 0.8762 - val_loss: 0.2965 - val_accuracy: 0.8679 - lr: 0.0010\n",
      "Epoch 7/80\n",
      "46/46 [==============================] - ETA: 0s - loss: 0.2684 - accuracy: 0.8813WARNING:tensorflow:Early stopping conditioned on metric `val_acc` which is not available. Available metrics are: loss,accuracy,val_loss,val_accuracy,lr\n",
      "46/46 [==============================] - 45s 983ms/step - loss: 0.2684 - accuracy: 0.8813 - val_loss: 0.2781 - val_accuracy: 0.8833 - lr: 0.0010\n",
      "Epoch 8/80\n",
      "46/46 [==============================] - ETA: 0s - loss: 0.2588 - accuracy: 0.8911WARNING:tensorflow:Early stopping conditioned on metric `val_acc` which is not available. Available metrics are: loss,accuracy,val_loss,val_accuracy,lr\n",
      "46/46 [==============================] - 44s 961ms/step - loss: 0.2588 - accuracy: 0.8911 - val_loss: 0.2921 - val_accuracy: 0.8725 - lr: 0.0010\n",
      "Epoch 9/80\n",
      "46/46 [==============================] - ETA: 0s - loss: 0.2505 - accuracy: 0.8921WARNING:tensorflow:Early stopping conditioned on metric `val_acc` which is not available. Available metrics are: loss,accuracy,val_loss,val_accuracy,lr\n",
      "46/46 [==============================] - 45s 969ms/step - loss: 0.2505 - accuracy: 0.8921 - val_loss: 0.2795 - val_accuracy: 0.8848 - lr: 0.0010\n",
      "Epoch 10/80\n",
      "46/46 [==============================] - ETA: 0s - loss: 0.2426 - accuracy: 0.8936WARNING:tensorflow:Early stopping conditioned on metric `val_acc` which is not available. Available metrics are: loss,accuracy,val_loss,val_accuracy,lr\n",
      "46/46 [==============================] - 45s 976ms/step - loss: 0.2426 - accuracy: 0.8936 - val_loss: 0.2614 - val_accuracy: 0.9032 - lr: 0.0010\n",
      "Epoch 11/80\n",
      "46/46 [==============================] - ETA: 0s - loss: 0.2305 - accuracy: 0.9034WARNING:tensorflow:Early stopping conditioned on metric `val_acc` which is not available. Available metrics are: loss,accuracy,val_loss,val_accuracy,lr\n",
      "46/46 [==============================] - 45s 980ms/step - loss: 0.2305 - accuracy: 0.9034 - val_loss: 0.2765 - val_accuracy: 0.8955 - lr: 0.0010\n",
      "Epoch 12/80\n",
      "46/46 [==============================] - ETA: 0s - loss: 0.2122 - accuracy: 0.9104WARNING:tensorflow:Early stopping conditioned on metric `val_acc` which is not available. Available metrics are: loss,accuracy,val_loss,val_accuracy,lr\n",
      "46/46 [==============================] - 44s 951ms/step - loss: 0.2122 - accuracy: 0.9104 - val_loss: 0.2687 - val_accuracy: 0.8817 - lr: 0.0010\n",
      "Epoch 13/80\n",
      "46/46 [==============================] - ETA: 0s - loss: 0.2011 - accuracy: 0.9146WARNING:tensorflow:Early stopping conditioned on metric `val_acc` which is not available. Available metrics are: loss,accuracy,val_loss,val_accuracy,lr\n",
      "46/46 [==============================] - 44s 964ms/step - loss: 0.2011 - accuracy: 0.9146 - val_loss: 0.2761 - val_accuracy: 0.8925 - lr: 0.0010\n",
      "Epoch 14/80\n",
      "46/46 [==============================] - ETA: 0s - loss: 0.1937 - accuracy: 0.9150WARNING:tensorflow:Early stopping conditioned on metric `val_acc` which is not available. Available metrics are: loss,accuracy,val_loss,val_accuracy,lr\n",
      "46/46 [==============================] - 35s 747ms/step - loss: 0.1937 - accuracy: 0.9150 - val_loss: 0.2788 - val_accuracy: 0.8909 - lr: 0.0010\n",
      "Epoch 15/80\n",
      "46/46 [==============================] - ETA: 0s - loss: 0.1828 - accuracy: 0.9249WARNING:tensorflow:Early stopping conditioned on metric `val_acc` which is not available. Available metrics are: loss,accuracy,val_loss,val_accuracy,lr\n",
      "46/46 [==============================] - 29s 630ms/step - loss: 0.1828 - accuracy: 0.9249 - val_loss: 0.2953 - val_accuracy: 0.8786 - lr: 0.0010\n",
      "Epoch 16/80\n",
      "46/46 [==============================] - ETA: 0s - loss: 0.1616 - accuracy: 0.9327WARNING:tensorflow:Early stopping conditioned on metric `val_acc` which is not available. Available metrics are: loss,accuracy,val_loss,val_accuracy,lr\n",
      "46/46 [==============================] - 29s 626ms/step - loss: 0.1616 - accuracy: 0.9327 - val_loss: 0.2796 - val_accuracy: 0.8863 - lr: 1.0000e-04\n",
      "Epoch 17/80\n",
      "46/46 [==============================] - ETA: 0s - loss: 0.1535 - accuracy: 0.9373WARNING:tensorflow:Early stopping conditioned on metric `val_acc` which is not available. Available metrics are: loss,accuracy,val_loss,val_accuracy,lr\n",
      "46/46 [==============================] - 28s 615ms/step - loss: 0.1535 - accuracy: 0.9373 - val_loss: 0.2889 - val_accuracy: 0.8863 - lr: 1.0000e-04\n",
      "Epoch 18/80\n",
      "46/46 [==============================] - ETA: 0s - loss: 0.1514 - accuracy: 0.9384WARNING:tensorflow:Early stopping conditioned on metric `val_acc` which is not available. Available metrics are: loss,accuracy,val_loss,val_accuracy,lr\n",
      "46/46 [==============================] - 30s 651ms/step - loss: 0.1514 - accuracy: 0.9384 - val_loss: 0.2797 - val_accuracy: 0.8879 - lr: 1.0000e-04\n",
      "Epoch 19/80\n",
      "46/46 [==============================] - ETA: 0s - loss: 0.1495 - accuracy: 0.9372WARNING:tensorflow:Early stopping conditioned on metric `val_acc` which is not available. Available metrics are: loss,accuracy,val_loss,val_accuracy,lr\n",
      "46/46 [==============================] - 31s 665ms/step - loss: 0.1495 - accuracy: 0.9372 - val_loss: 0.2792 - val_accuracy: 0.8863 - lr: 1.0000e-04\n",
      "Epoch 20/80\n",
      "46/46 [==============================] - ETA: 0s - loss: 0.1487 - accuracy: 0.9380WARNING:tensorflow:Early stopping conditioned on metric `val_acc` which is not available. Available metrics are: loss,accuracy,val_loss,val_accuracy,lr\n",
      "46/46 [==============================] - 30s 652ms/step - loss: 0.1487 - accuracy: 0.9380 - val_loss: 0.2845 - val_accuracy: 0.8894 - lr: 1.0000e-04\n",
      "Epoch 21/80\n",
      "46/46 [==============================] - ETA: 0s - loss: 0.1476 - accuracy: 0.9365WARNING:tensorflow:Early stopping conditioned on metric `val_acc` which is not available. Available metrics are: loss,accuracy,val_loss,val_accuracy,lr\n",
      "46/46 [==============================] - 29s 629ms/step - loss: 0.1476 - accuracy: 0.9365 - val_loss: 0.2836 - val_accuracy: 0.8894 - lr: 1.0000e-05\n"
     ]
    },
    {
     "name": "stdout",
     "output_type": "stream",
     "text": [
      "Epoch 22/80\n",
      "46/46 [==============================] - ETA: 0s - loss: 0.1459 - accuracy: 0.9414WARNING:tensorflow:Early stopping conditioned on metric `val_acc` which is not available. Available metrics are: loss,accuracy,val_loss,val_accuracy,lr\n",
      "46/46 [==============================] - 28s 619ms/step - loss: 0.1459 - accuracy: 0.9414 - val_loss: 0.2837 - val_accuracy: 0.8894 - lr: 1.0000e-05\n",
      "Epoch 23/80\n",
      "46/46 [==============================] - ETA: 0s - loss: 0.1451 - accuracy: 0.9404WARNING:tensorflow:Early stopping conditioned on metric `val_acc` which is not available. Available metrics are: loss,accuracy,val_loss,val_accuracy,lr\n",
      "46/46 [==============================] - 29s 621ms/step - loss: 0.1451 - accuracy: 0.9404 - val_loss: 0.2829 - val_accuracy: 0.8909 - lr: 1.0000e-05\n",
      "Epoch 24/80\n",
      "46/46 [==============================] - ETA: 0s - loss: 0.1481 - accuracy: 0.9401WARNING:tensorflow:Early stopping conditioned on metric `val_acc` which is not available. Available metrics are: loss,accuracy,val_loss,val_accuracy,lr\n",
      "46/46 [==============================] - 29s 639ms/step - loss: 0.1481 - accuracy: 0.9401 - val_loss: 0.2822 - val_accuracy: 0.8894 - lr: 1.0000e-05\n",
      "Epoch 25/80\n",
      "46/46 [==============================] - ETA: 0s - loss: 0.1485 - accuracy: 0.9384WARNING:tensorflow:Early stopping conditioned on metric `val_acc` which is not available. Available metrics are: loss,accuracy,val_loss,val_accuracy,lr\n",
      "46/46 [==============================] - 30s 644ms/step - loss: 0.1485 - accuracy: 0.9384 - val_loss: 0.2820 - val_accuracy: 0.8894 - lr: 1.0000e-05\n",
      "Epoch 26/80\n",
      "46/46 [==============================] - ETA: 0s - loss: 0.1431 - accuracy: 0.9401WARNING:tensorflow:Early stopping conditioned on metric `val_acc` which is not available. Available metrics are: loss,accuracy,val_loss,val_accuracy,lr\n",
      "46/46 [==============================] - 29s 635ms/step - loss: 0.1431 - accuracy: 0.9401 - val_loss: 0.2822 - val_accuracy: 0.8894 - lr: 1.0000e-06\n",
      "Epoch 27/80\n",
      "46/46 [==============================] - ETA: 0s - loss: 0.1497 - accuracy: 0.9392WARNING:tensorflow:Early stopping conditioned on metric `val_acc` which is not available. Available metrics are: loss,accuracy,val_loss,val_accuracy,lr\n",
      "46/46 [==============================] - 30s 643ms/step - loss: 0.1497 - accuracy: 0.9392 - val_loss: 0.2825 - val_accuracy: 0.8909 - lr: 1.0000e-06\n",
      "Epoch 28/80\n",
      "46/46 [==============================] - ETA: 0s - loss: 0.1428 - accuracy: 0.9423WARNING:tensorflow:Early stopping conditioned on metric `val_acc` which is not available. Available metrics are: loss,accuracy,val_loss,val_accuracy,lr\n",
      "46/46 [==============================] - 29s 632ms/step - loss: 0.1428 - accuracy: 0.9423 - val_loss: 0.2827 - val_accuracy: 0.8909 - lr: 1.0000e-06\n",
      "Epoch 29/80\n",
      "46/46 [==============================] - ETA: 0s - loss: 0.1493 - accuracy: 0.9375WARNING:tensorflow:Early stopping conditioned on metric `val_acc` which is not available. Available metrics are: loss,accuracy,val_loss,val_accuracy,lr\n",
      "46/46 [==============================] - 32s 686ms/step - loss: 0.1493 - accuracy: 0.9375 - val_loss: 0.2825 - val_accuracy: 0.8909 - lr: 1.0000e-06\n",
      "Epoch 30/80\n",
      "46/46 [==============================] - ETA: 0s - loss: 0.1445 - accuracy: 0.9390WARNING:tensorflow:Early stopping conditioned on metric `val_acc` which is not available. Available metrics are: loss,accuracy,val_loss,val_accuracy,lr\n",
      "46/46 [==============================] - 31s 674ms/step - loss: 0.1445 - accuracy: 0.9390 - val_loss: 0.2826 - val_accuracy: 0.8909 - lr: 1.0000e-06\n",
      "Epoch 31/80\n",
      "46/46 [==============================] - ETA: 0s - loss: 0.1449 - accuracy: 0.9409WARNING:tensorflow:Early stopping conditioned on metric `val_acc` which is not available. Available metrics are: loss,accuracy,val_loss,val_accuracy,lr\n",
      "46/46 [==============================] - 29s 639ms/step - loss: 0.1449 - accuracy: 0.9409 - val_loss: 0.2826 - val_accuracy: 0.8909 - lr: 1.0000e-07\n",
      "Epoch 32/80\n",
      "46/46 [==============================] - ETA: 0s - loss: 0.1447 - accuracy: 0.9430WARNING:tensorflow:Early stopping conditioned on metric `val_acc` which is not available. Available metrics are: loss,accuracy,val_loss,val_accuracy,lr\n",
      "46/46 [==============================] - 29s 628ms/step - loss: 0.1447 - accuracy: 0.9430 - val_loss: 0.2826 - val_accuracy: 0.8909 - lr: 1.0000e-07\n",
      "Epoch 33/80\n",
      "46/46 [==============================] - ETA: 0s - loss: 0.1451 - accuracy: 0.9382WARNING:tensorflow:Early stopping conditioned on metric `val_acc` which is not available. Available metrics are: loss,accuracy,val_loss,val_accuracy,lr\n",
      "46/46 [==============================] - 28s 614ms/step - loss: 0.1451 - accuracy: 0.9382 - val_loss: 0.2827 - val_accuracy: 0.8909 - lr: 1.0000e-07\n",
      "Epoch 34/80\n",
      "46/46 [==============================] - ETA: 0s - loss: 0.1444 - accuracy: 0.9423WARNING:tensorflow:Early stopping conditioned on metric `val_acc` which is not available. Available metrics are: loss,accuracy,val_loss,val_accuracy,lr\n",
      "46/46 [==============================] - 28s 619ms/step - loss: 0.1444 - accuracy: 0.9423 - val_loss: 0.2827 - val_accuracy: 0.8909 - lr: 1.0000e-07\n",
      "Epoch 35/80\n",
      "46/46 [==============================] - ETA: 0s - loss: 0.1440 - accuracy: 0.9402WARNING:tensorflow:Early stopping conditioned on metric `val_acc` which is not available. Available metrics are: loss,accuracy,val_loss,val_accuracy,lr\n",
      "46/46 [==============================] - 30s 659ms/step - loss: 0.1440 - accuracy: 0.9402 - val_loss: 0.2827 - val_accuracy: 0.8909 - lr: 1.0000e-07\n",
      "Epoch 36/80\n",
      "46/46 [==============================] - ETA: 0s - loss: 0.1410 - accuracy: 0.9443WARNING:tensorflow:Early stopping conditioned on metric `val_acc` which is not available. Available metrics are: loss,accuracy,val_loss,val_accuracy,lr\n",
      "46/46 [==============================] - 29s 636ms/step - loss: 0.1410 - accuracy: 0.9443 - val_loss: 0.2827 - val_accuracy: 0.8909 - lr: 1.0000e-08\n",
      "Epoch 37/80\n",
      "46/46 [==============================] - ETA: 0s - loss: 0.1434 - accuracy: 0.9431WARNING:tensorflow:Early stopping conditioned on metric `val_acc` which is not available. Available metrics are: loss,accuracy,val_loss,val_accuracy,lr\n",
      "46/46 [==============================] - 29s 628ms/step - loss: 0.1434 - accuracy: 0.9431 - val_loss: 0.2827 - val_accuracy: 0.8909 - lr: 1.0000e-08\n",
      "Epoch 38/80\n",
      "46/46 [==============================] - ETA: 0s - loss: 0.1437 - accuracy: 0.9402WARNING:tensorflow:Early stopping conditioned on metric `val_acc` which is not available. Available metrics are: loss,accuracy,val_loss,val_accuracy,lr\n",
      "46/46 [==============================] - 29s 623ms/step - loss: 0.1437 - accuracy: 0.9402 - val_loss: 0.2827 - val_accuracy: 0.8909 - lr: 1.0000e-08\n",
      "Epoch 39/80\n",
      "46/46 [==============================] - ETA: 0s - loss: 0.1454 - accuracy: 0.9401WARNING:tensorflow:Early stopping conditioned on metric `val_acc` which is not available. Available metrics are: loss,accuracy,val_loss,val_accuracy,lr\n",
      "46/46 [==============================] - 29s 632ms/step - loss: 0.1454 - accuracy: 0.9401 - val_loss: 0.2827 - val_accuracy: 0.8909 - lr: 1.0000e-08\n",
      "Epoch 40/80\n",
      "46/46 [==============================] - ETA: 0s - loss: 0.1404 - accuracy: 0.9416WARNING:tensorflow:Early stopping conditioned on metric `val_acc` which is not available. Available metrics are: loss,accuracy,val_loss,val_accuracy,lr\n",
      "46/46 [==============================] - 29s 636ms/step - loss: 0.1404 - accuracy: 0.9416 - val_loss: 0.2827 - val_accuracy: 0.8909 - lr: 1.0000e-08\n",
      "Epoch 41/80\n",
      "46/46 [==============================] - ETA: 0s - loss: 0.1484 - accuracy: 0.9392WARNING:tensorflow:Early stopping conditioned on metric `val_acc` which is not available. Available metrics are: loss,accuracy,val_loss,val_accuracy,lr\n",
      "46/46 [==============================] - 31s 673ms/step - loss: 0.1484 - accuracy: 0.9392 - val_loss: 0.2827 - val_accuracy: 0.8909 - lr: 1.0000e-09\n",
      "Epoch 42/80\n",
      "46/46 [==============================] - ETA: 0s - loss: 0.1433 - accuracy: 0.9425WARNING:tensorflow:Early stopping conditioned on metric `val_acc` which is not available. Available metrics are: loss,accuracy,val_loss,val_accuracy,lr\n",
      "46/46 [==============================] - 29s 628ms/step - loss: 0.1433 - accuracy: 0.9425 - val_loss: 0.2827 - val_accuracy: 0.8909 - lr: 1.0000e-09\n"
     ]
    },
    {
     "name": "stdout",
     "output_type": "stream",
     "text": [
      "Epoch 43/80\n",
      "46/46 [==============================] - ETA: 0s - loss: 0.1434 - accuracy: 0.9409WARNING:tensorflow:Early stopping conditioned on metric `val_acc` which is not available. Available metrics are: loss,accuracy,val_loss,val_accuracy,lr\n",
      "46/46 [==============================] - 28s 608ms/step - loss: 0.1434 - accuracy: 0.9409 - val_loss: 0.2827 - val_accuracy: 0.8909 - lr: 1.0000e-09\n",
      "Epoch 44/80\n",
      "46/46 [==============================] - ETA: 0s - loss: 0.1466 - accuracy: 0.9401WARNING:tensorflow:Early stopping conditioned on metric `val_acc` which is not available. Available metrics are: loss,accuracy,val_loss,val_accuracy,lr\n",
      "46/46 [==============================] - 29s 630ms/step - loss: 0.1466 - accuracy: 0.9401 - val_loss: 0.2827 - val_accuracy: 0.8909 - lr: 1.0000e-09\n",
      "Epoch 45/80\n",
      "46/46 [==============================] - ETA: 0s - loss: 0.1467 - accuracy: 0.9397WARNING:tensorflow:Early stopping conditioned on metric `val_acc` which is not available. Available metrics are: loss,accuracy,val_loss,val_accuracy,lr\n",
      "46/46 [==============================] - 29s 638ms/step - loss: 0.1467 - accuracy: 0.9397 - val_loss: 0.2827 - val_accuracy: 0.8909 - lr: 1.0000e-09\n",
      "Epoch 46/80\n",
      "46/46 [==============================] - ETA: 0s - loss: 0.1487 - accuracy: 0.9399WARNING:tensorflow:Early stopping conditioned on metric `val_acc` which is not available. Available metrics are: loss,accuracy,val_loss,val_accuracy,lr\n",
      "46/46 [==============================] - 30s 653ms/step - loss: 0.1487 - accuracy: 0.9399 - val_loss: 0.2827 - val_accuracy: 0.8909 - lr: 1.0000e-10\n",
      "Epoch 47/80\n",
      "35/46 [=====================>........] - ETA: 6s - loss: 0.1443 - accuracy: 0.9406"
     ]
    },
    {
     "ename": "KeyboardInterrupt",
     "evalue": "",
     "output_type": "error",
     "traceback": [
      "\u001b[1;31m---------------------------------------------------------------------------\u001b[0m",
      "\u001b[1;31mKeyboardInterrupt\u001b[0m                         Traceback (most recent call last)",
      "File \u001b[1;32m<timed exec>:1\u001b[0m, in \u001b[0;36m<module>\u001b[1;34m\u001b[0m\n",
      "File \u001b[1;32m~\\anaconda3\\envs\\gpu\\lib\\site-packages\\keras\\utils\\traceback_utils.py:64\u001b[0m, in \u001b[0;36mfilter_traceback.<locals>.error_handler\u001b[1;34m(*args, **kwargs)\u001b[0m\n\u001b[0;32m     62\u001b[0m filtered_tb \u001b[38;5;241m=\u001b[39m \u001b[38;5;28;01mNone\u001b[39;00m\n\u001b[0;32m     63\u001b[0m \u001b[38;5;28;01mtry\u001b[39;00m:\n\u001b[1;32m---> 64\u001b[0m   \u001b[38;5;28;01mreturn\u001b[39;00m fn(\u001b[38;5;241m*\u001b[39margs, \u001b[38;5;241m*\u001b[39m\u001b[38;5;241m*\u001b[39mkwargs)\n\u001b[0;32m     65\u001b[0m \u001b[38;5;28;01mexcept\u001b[39;00m \u001b[38;5;167;01mException\u001b[39;00m \u001b[38;5;28;01mas\u001b[39;00m e:  \u001b[38;5;66;03m# pylint: disable=broad-except\u001b[39;00m\n\u001b[0;32m     66\u001b[0m   filtered_tb \u001b[38;5;241m=\u001b[39m _process_traceback_frames(e\u001b[38;5;241m.\u001b[39m__traceback__)\n",
      "File \u001b[1;32m~\\anaconda3\\envs\\gpu\\lib\\site-packages\\keras\\engine\\training.py:1384\u001b[0m, in \u001b[0;36mModel.fit\u001b[1;34m(self, x, y, batch_size, epochs, verbose, callbacks, validation_split, validation_data, shuffle, class_weight, sample_weight, initial_epoch, steps_per_epoch, validation_steps, validation_batch_size, validation_freq, max_queue_size, workers, use_multiprocessing)\u001b[0m\n\u001b[0;32m   1377\u001b[0m \u001b[38;5;28;01mwith\u001b[39;00m tf\u001b[38;5;241m.\u001b[39mprofiler\u001b[38;5;241m.\u001b[39mexperimental\u001b[38;5;241m.\u001b[39mTrace(\n\u001b[0;32m   1378\u001b[0m     \u001b[38;5;124m'\u001b[39m\u001b[38;5;124mtrain\u001b[39m\u001b[38;5;124m'\u001b[39m,\n\u001b[0;32m   1379\u001b[0m     epoch_num\u001b[38;5;241m=\u001b[39mepoch,\n\u001b[0;32m   1380\u001b[0m     step_num\u001b[38;5;241m=\u001b[39mstep,\n\u001b[0;32m   1381\u001b[0m     batch_size\u001b[38;5;241m=\u001b[39mbatch_size,\n\u001b[0;32m   1382\u001b[0m     _r\u001b[38;5;241m=\u001b[39m\u001b[38;5;241m1\u001b[39m):\n\u001b[0;32m   1383\u001b[0m   callbacks\u001b[38;5;241m.\u001b[39mon_train_batch_begin(step)\n\u001b[1;32m-> 1384\u001b[0m   tmp_logs \u001b[38;5;241m=\u001b[39m \u001b[38;5;28;43mself\u001b[39;49m\u001b[38;5;241;43m.\u001b[39;49m\u001b[43mtrain_function\u001b[49m\u001b[43m(\u001b[49m\u001b[43miterator\u001b[49m\u001b[43m)\u001b[49m\n\u001b[0;32m   1385\u001b[0m   \u001b[38;5;28;01mif\u001b[39;00m data_handler\u001b[38;5;241m.\u001b[39mshould_sync:\n\u001b[0;32m   1386\u001b[0m     context\u001b[38;5;241m.\u001b[39masync_wait()\n",
      "File \u001b[1;32m~\\AppData\\Roaming\\Python\\Python39\\site-packages\\tensorflow\\python\\util\\traceback_utils.py:150\u001b[0m, in \u001b[0;36mfilter_traceback.<locals>.error_handler\u001b[1;34m(*args, **kwargs)\u001b[0m\n\u001b[0;32m    148\u001b[0m filtered_tb \u001b[38;5;241m=\u001b[39m \u001b[38;5;28;01mNone\u001b[39;00m\n\u001b[0;32m    149\u001b[0m \u001b[38;5;28;01mtry\u001b[39;00m:\n\u001b[1;32m--> 150\u001b[0m   \u001b[38;5;28;01mreturn\u001b[39;00m fn(\u001b[38;5;241m*\u001b[39margs, \u001b[38;5;241m*\u001b[39m\u001b[38;5;241m*\u001b[39mkwargs)\n\u001b[0;32m    151\u001b[0m \u001b[38;5;28;01mexcept\u001b[39;00m \u001b[38;5;167;01mException\u001b[39;00m \u001b[38;5;28;01mas\u001b[39;00m e:\n\u001b[0;32m    152\u001b[0m   filtered_tb \u001b[38;5;241m=\u001b[39m _process_traceback_frames(e\u001b[38;5;241m.\u001b[39m__traceback__)\n",
      "File \u001b[1;32m~\\AppData\\Roaming\\Python\\Python39\\site-packages\\tensorflow\\python\\eager\\def_function.py:915\u001b[0m, in \u001b[0;36mFunction.__call__\u001b[1;34m(self, *args, **kwds)\u001b[0m\n\u001b[0;32m    912\u001b[0m compiler \u001b[38;5;241m=\u001b[39m \u001b[38;5;124m\"\u001b[39m\u001b[38;5;124mxla\u001b[39m\u001b[38;5;124m\"\u001b[39m \u001b[38;5;28;01mif\u001b[39;00m \u001b[38;5;28mself\u001b[39m\u001b[38;5;241m.\u001b[39m_jit_compile \u001b[38;5;28;01melse\u001b[39;00m \u001b[38;5;124m\"\u001b[39m\u001b[38;5;124mnonXla\u001b[39m\u001b[38;5;124m\"\u001b[39m\n\u001b[0;32m    914\u001b[0m \u001b[38;5;28;01mwith\u001b[39;00m OptionalXlaContext(\u001b[38;5;28mself\u001b[39m\u001b[38;5;241m.\u001b[39m_jit_compile):\n\u001b[1;32m--> 915\u001b[0m   result \u001b[38;5;241m=\u001b[39m \u001b[38;5;28mself\u001b[39m\u001b[38;5;241m.\u001b[39m_call(\u001b[38;5;241m*\u001b[39margs, \u001b[38;5;241m*\u001b[39m\u001b[38;5;241m*\u001b[39mkwds)\n\u001b[0;32m    917\u001b[0m new_tracing_count \u001b[38;5;241m=\u001b[39m \u001b[38;5;28mself\u001b[39m\u001b[38;5;241m.\u001b[39mexperimental_get_tracing_count()\n\u001b[0;32m    918\u001b[0m without_tracing \u001b[38;5;241m=\u001b[39m (tracing_count \u001b[38;5;241m==\u001b[39m new_tracing_count)\n",
      "File \u001b[1;32m~\\AppData\\Roaming\\Python\\Python39\\site-packages\\tensorflow\\python\\eager\\def_function.py:947\u001b[0m, in \u001b[0;36mFunction._call\u001b[1;34m(self, *args, **kwds)\u001b[0m\n\u001b[0;32m    944\u001b[0m   \u001b[38;5;28mself\u001b[39m\u001b[38;5;241m.\u001b[39m_lock\u001b[38;5;241m.\u001b[39mrelease()\n\u001b[0;32m    945\u001b[0m   \u001b[38;5;66;03m# In this case we have created variables on the first call, so we run the\u001b[39;00m\n\u001b[0;32m    946\u001b[0m   \u001b[38;5;66;03m# defunned version which is guaranteed to never create variables.\u001b[39;00m\n\u001b[1;32m--> 947\u001b[0m   \u001b[38;5;28;01mreturn\u001b[39;00m \u001b[38;5;28mself\u001b[39m\u001b[38;5;241m.\u001b[39m_stateless_fn(\u001b[38;5;241m*\u001b[39margs, \u001b[38;5;241m*\u001b[39m\u001b[38;5;241m*\u001b[39mkwds)  \u001b[38;5;66;03m# pylint: disable=not-callable\u001b[39;00m\n\u001b[0;32m    948\u001b[0m \u001b[38;5;28;01melif\u001b[39;00m \u001b[38;5;28mself\u001b[39m\u001b[38;5;241m.\u001b[39m_stateful_fn \u001b[38;5;129;01mis\u001b[39;00m \u001b[38;5;129;01mnot\u001b[39;00m \u001b[38;5;28;01mNone\u001b[39;00m:\n\u001b[0;32m    949\u001b[0m   \u001b[38;5;66;03m# Release the lock early so that multiple threads can perform the call\u001b[39;00m\n\u001b[0;32m    950\u001b[0m   \u001b[38;5;66;03m# in parallel.\u001b[39;00m\n\u001b[0;32m    951\u001b[0m   \u001b[38;5;28mself\u001b[39m\u001b[38;5;241m.\u001b[39m_lock\u001b[38;5;241m.\u001b[39mrelease()\n",
      "File \u001b[1;32m~\\AppData\\Roaming\\Python\\Python39\\site-packages\\tensorflow\\python\\eager\\function.py:2956\u001b[0m, in \u001b[0;36mFunction.__call__\u001b[1;34m(self, *args, **kwargs)\u001b[0m\n\u001b[0;32m   2953\u001b[0m \u001b[38;5;28;01mwith\u001b[39;00m \u001b[38;5;28mself\u001b[39m\u001b[38;5;241m.\u001b[39m_lock:\n\u001b[0;32m   2954\u001b[0m   (graph_function,\n\u001b[0;32m   2955\u001b[0m    filtered_flat_args) \u001b[38;5;241m=\u001b[39m \u001b[38;5;28mself\u001b[39m\u001b[38;5;241m.\u001b[39m_maybe_define_function(args, kwargs)\n\u001b[1;32m-> 2956\u001b[0m \u001b[38;5;28;01mreturn\u001b[39;00m \u001b[43mgraph_function\u001b[49m\u001b[38;5;241;43m.\u001b[39;49m\u001b[43m_call_flat\u001b[49m\u001b[43m(\u001b[49m\n\u001b[0;32m   2957\u001b[0m \u001b[43m    \u001b[49m\u001b[43mfiltered_flat_args\u001b[49m\u001b[43m,\u001b[49m\u001b[43m \u001b[49m\u001b[43mcaptured_inputs\u001b[49m\u001b[38;5;241;43m=\u001b[39;49m\u001b[43mgraph_function\u001b[49m\u001b[38;5;241;43m.\u001b[39;49m\u001b[43mcaptured_inputs\u001b[49m\u001b[43m)\u001b[49m\n",
      "File \u001b[1;32m~\\AppData\\Roaming\\Python\\Python39\\site-packages\\tensorflow\\python\\eager\\function.py:1853\u001b[0m, in \u001b[0;36mConcreteFunction._call_flat\u001b[1;34m(self, args, captured_inputs, cancellation_manager)\u001b[0m\n\u001b[0;32m   1849\u001b[0m possible_gradient_type \u001b[38;5;241m=\u001b[39m gradients_util\u001b[38;5;241m.\u001b[39mPossibleTapeGradientTypes(args)\n\u001b[0;32m   1850\u001b[0m \u001b[38;5;28;01mif\u001b[39;00m (possible_gradient_type \u001b[38;5;241m==\u001b[39m gradients_util\u001b[38;5;241m.\u001b[39mPOSSIBLE_GRADIENT_TYPES_NONE\n\u001b[0;32m   1851\u001b[0m     \u001b[38;5;129;01mand\u001b[39;00m executing_eagerly):\n\u001b[0;32m   1852\u001b[0m   \u001b[38;5;66;03m# No tape is watching; skip to running the function.\u001b[39;00m\n\u001b[1;32m-> 1853\u001b[0m   \u001b[38;5;28;01mreturn\u001b[39;00m \u001b[38;5;28mself\u001b[39m\u001b[38;5;241m.\u001b[39m_build_call_outputs(\u001b[38;5;28;43mself\u001b[39;49m\u001b[38;5;241;43m.\u001b[39;49m\u001b[43m_inference_function\u001b[49m\u001b[38;5;241;43m.\u001b[39;49m\u001b[43mcall\u001b[49m\u001b[43m(\u001b[49m\n\u001b[0;32m   1854\u001b[0m \u001b[43m      \u001b[49m\u001b[43mctx\u001b[49m\u001b[43m,\u001b[49m\u001b[43m \u001b[49m\u001b[43margs\u001b[49m\u001b[43m,\u001b[49m\u001b[43m \u001b[49m\u001b[43mcancellation_manager\u001b[49m\u001b[38;5;241;43m=\u001b[39;49m\u001b[43mcancellation_manager\u001b[49m\u001b[43m)\u001b[49m)\n\u001b[0;32m   1855\u001b[0m forward_backward \u001b[38;5;241m=\u001b[39m \u001b[38;5;28mself\u001b[39m\u001b[38;5;241m.\u001b[39m_select_forward_and_backward_functions(\n\u001b[0;32m   1856\u001b[0m     args,\n\u001b[0;32m   1857\u001b[0m     possible_gradient_type,\n\u001b[0;32m   1858\u001b[0m     executing_eagerly)\n\u001b[0;32m   1859\u001b[0m forward_function, args_with_tangents \u001b[38;5;241m=\u001b[39m forward_backward\u001b[38;5;241m.\u001b[39mforward()\n",
      "File \u001b[1;32m~\\AppData\\Roaming\\Python\\Python39\\site-packages\\tensorflow\\python\\eager\\function.py:499\u001b[0m, in \u001b[0;36m_EagerDefinedFunction.call\u001b[1;34m(self, ctx, args, cancellation_manager)\u001b[0m\n\u001b[0;32m    497\u001b[0m \u001b[38;5;28;01mwith\u001b[39;00m _InterpolateFunctionError(\u001b[38;5;28mself\u001b[39m):\n\u001b[0;32m    498\u001b[0m   \u001b[38;5;28;01mif\u001b[39;00m cancellation_manager \u001b[38;5;129;01mis\u001b[39;00m \u001b[38;5;28;01mNone\u001b[39;00m:\n\u001b[1;32m--> 499\u001b[0m     outputs \u001b[38;5;241m=\u001b[39m \u001b[43mexecute\u001b[49m\u001b[38;5;241;43m.\u001b[39;49m\u001b[43mexecute\u001b[49m\u001b[43m(\u001b[49m\n\u001b[0;32m    500\u001b[0m \u001b[43m        \u001b[49m\u001b[38;5;28;43mstr\u001b[39;49m\u001b[43m(\u001b[49m\u001b[38;5;28;43mself\u001b[39;49m\u001b[38;5;241;43m.\u001b[39;49m\u001b[43msignature\u001b[49m\u001b[38;5;241;43m.\u001b[39;49m\u001b[43mname\u001b[49m\u001b[43m)\u001b[49m\u001b[43m,\u001b[49m\n\u001b[0;32m    501\u001b[0m \u001b[43m        \u001b[49m\u001b[43mnum_outputs\u001b[49m\u001b[38;5;241;43m=\u001b[39;49m\u001b[38;5;28;43mself\u001b[39;49m\u001b[38;5;241;43m.\u001b[39;49m\u001b[43m_num_outputs\u001b[49m\u001b[43m,\u001b[49m\n\u001b[0;32m    502\u001b[0m \u001b[43m        \u001b[49m\u001b[43minputs\u001b[49m\u001b[38;5;241;43m=\u001b[39;49m\u001b[43margs\u001b[49m\u001b[43m,\u001b[49m\n\u001b[0;32m    503\u001b[0m \u001b[43m        \u001b[49m\u001b[43mattrs\u001b[49m\u001b[38;5;241;43m=\u001b[39;49m\u001b[43mattrs\u001b[49m\u001b[43m,\u001b[49m\n\u001b[0;32m    504\u001b[0m \u001b[43m        \u001b[49m\u001b[43mctx\u001b[49m\u001b[38;5;241;43m=\u001b[39;49m\u001b[43mctx\u001b[49m\u001b[43m)\u001b[49m\n\u001b[0;32m    505\u001b[0m   \u001b[38;5;28;01melse\u001b[39;00m:\n\u001b[0;32m    506\u001b[0m     outputs \u001b[38;5;241m=\u001b[39m execute\u001b[38;5;241m.\u001b[39mexecute_with_cancellation(\n\u001b[0;32m    507\u001b[0m         \u001b[38;5;28mstr\u001b[39m(\u001b[38;5;28mself\u001b[39m\u001b[38;5;241m.\u001b[39msignature\u001b[38;5;241m.\u001b[39mname),\n\u001b[0;32m    508\u001b[0m         num_outputs\u001b[38;5;241m=\u001b[39m\u001b[38;5;28mself\u001b[39m\u001b[38;5;241m.\u001b[39m_num_outputs,\n\u001b[1;32m   (...)\u001b[0m\n\u001b[0;32m    511\u001b[0m         ctx\u001b[38;5;241m=\u001b[39mctx,\n\u001b[0;32m    512\u001b[0m         cancellation_manager\u001b[38;5;241m=\u001b[39mcancellation_manager)\n",
      "File \u001b[1;32m~\\AppData\\Roaming\\Python\\Python39\\site-packages\\tensorflow\\python\\eager\\execute.py:54\u001b[0m, in \u001b[0;36mquick_execute\u001b[1;34m(op_name, num_outputs, inputs, attrs, ctx, name)\u001b[0m\n\u001b[0;32m     52\u001b[0m \u001b[38;5;28;01mtry\u001b[39;00m:\n\u001b[0;32m     53\u001b[0m   ctx\u001b[38;5;241m.\u001b[39mensure_initialized()\n\u001b[1;32m---> 54\u001b[0m   tensors \u001b[38;5;241m=\u001b[39m \u001b[43mpywrap_tfe\u001b[49m\u001b[38;5;241;43m.\u001b[39;49m\u001b[43mTFE_Py_Execute\u001b[49m\u001b[43m(\u001b[49m\u001b[43mctx\u001b[49m\u001b[38;5;241;43m.\u001b[39;49m\u001b[43m_handle\u001b[49m\u001b[43m,\u001b[49m\u001b[43m \u001b[49m\u001b[43mdevice_name\u001b[49m\u001b[43m,\u001b[49m\u001b[43m \u001b[49m\u001b[43mop_name\u001b[49m\u001b[43m,\u001b[49m\n\u001b[0;32m     55\u001b[0m \u001b[43m                                      \u001b[49m\u001b[43minputs\u001b[49m\u001b[43m,\u001b[49m\u001b[43m \u001b[49m\u001b[43mattrs\u001b[49m\u001b[43m,\u001b[49m\u001b[43m \u001b[49m\u001b[43mnum_outputs\u001b[49m\u001b[43m)\u001b[49m\n\u001b[0;32m     56\u001b[0m \u001b[38;5;28;01mexcept\u001b[39;00m core\u001b[38;5;241m.\u001b[39m_NotOkStatusException \u001b[38;5;28;01mas\u001b[39;00m e:\n\u001b[0;32m     57\u001b[0m   \u001b[38;5;28;01mif\u001b[39;00m name \u001b[38;5;129;01mis\u001b[39;00m \u001b[38;5;129;01mnot\u001b[39;00m \u001b[38;5;28;01mNone\u001b[39;00m:\n",
      "\u001b[1;31mKeyboardInterrupt\u001b[0m: "
     ]
    }
   ],
   "source": [
    "%%time\n",
    "history2 = model2.fit(X_train_padded, Y_train,\n",
    "                    batch_size=128,\n",
    "                    epochs=80,\n",
    "                    validation_split=0.1,\n",
    "                    verbose=1,\n",
    "                    callbacks=callbacks)"
   ]
  },
  {
   "cell_type": "code",
   "execution_count": 53,
   "metadata": {},
   "outputs": [
    {
     "name": "stdout",
     "output_type": "stream",
     "text": [
      "204/204 [==============================] - 13s 63ms/step - loss: 0.1247 - accuracy: 0.9542\n"
     ]
    },
    {
     "data": {
      "text/plain": [
       "[0.12466292828321457, 0.9542102217674255]"
      ]
     },
     "metadata": {},
     "output_type": "display_data"
    },
    {
     "data": {
      "text/plain": [
       "'train'"
      ]
     },
     "metadata": {},
     "output_type": "display_data"
    },
    {
     "name": "stdout",
     "output_type": "stream",
     "text": [
      "51/51 [==============================] - 3s 64ms/step - loss: 0.4207 - accuracy: 0.8334\n"
     ]
    },
    {
     "data": {
      "text/plain": [
       "[0.42073795199394226, 0.8334357738494873]"
      ]
     },
     "metadata": {},
     "output_type": "display_data"
    },
    {
     "data": {
      "text/plain": [
       "'test'"
      ]
     },
     "metadata": {},
     "output_type": "display_data"
    }
   ],
   "source": [
    "#best_model=rand_search.best_estimator_.model\n",
    "display(model2.evaluate(X_train_padded,Y_train), 'train')\n",
    "display(model2.evaluate(X_test_padded, Y_test), 'test')"
   ]
  },
  {
   "cell_type": "code",
   "execution_count": 55,
   "metadata": {},
   "outputs": [
    {
     "name": "stdout",
     "output_type": "stream",
     "text": [
      "               precision    recall  f1-score   support\n",
      "\n",
      "not depressed       0.97      0.95      0.96      3777\n",
      "    depressed       0.93      0.96      0.95      2731\n",
      "\n",
      "     accuracy                           0.95      6508\n",
      "    macro avg       0.95      0.95      0.95      6508\n",
      " weighted avg       0.95      0.95      0.95      6508\n",
      "\n"
     ]
    }
   ],
   "source": [
    "from sklearn.metrics import classification_report\n",
    "\n",
    "predictions = model2.predict(X_train_padded)\n",
    "predictions = [1 if p >= 0.5 else 0 for p in predictions]\n",
    "\n",
    "print(classification_report(Y_train, predictions, target_names=['not depressed', 'depressed']))"
   ]
  },
  {
   "cell_type": "code",
   "execution_count": 56,
   "metadata": {},
   "outputs": [
    {
     "name": "stdout",
     "output_type": "stream",
     "text": [
      "               precision    recall  f1-score   support\n",
      "\n",
      "not depressed       0.87      0.83      0.85       918\n",
      "    depressed       0.79      0.84      0.81       709\n",
      "\n",
      "     accuracy                           0.83      1627\n",
      "    macro avg       0.83      0.83      0.83      1627\n",
      " weighted avg       0.84      0.83      0.83      1627\n",
      "\n"
     ]
    }
   ],
   "source": [
    "predictions = model2.predict(X_test_padded)\n",
    "predictions = [1 if p >= 0.5 else 0 for p in predictions]\n",
    "\n",
    "print(classification_report(Y_test, predictions, target_names=['not depressed', 'depressed']))"
   ]
  },
  {
   "cell_type": "code",
   "execution_count": 58,
   "metadata": {},
   "outputs": [],
   "source": [
    "model_json = model2.to_json()\n",
    "with open('LSTM_CNN_Model.json', 'w') as json_file:\n",
    "    json_file.write(model_json)\n",
    "model2.save_weights('LSTM_CNN_weights.h5')"
   ]
  },
  {
   "cell_type": "code",
   "execution_count": null,
   "metadata": {},
   "outputs": [],
   "source": []
  },
  {
   "cell_type": "code",
   "execution_count": null,
   "metadata": {},
   "outputs": [],
   "source": []
  }
 ],
 "metadata": {
  "interpreter": {
   "hash": "916dbcbb3f70747c44a77c7bcd40155683ae19c65e1c03b4aa3499c5328201f1"
  },
  "kernelspec": {
   "display_name": "Python 3 (ipykernel)",
   "language": "python",
   "name": "python3"
  },
  "language_info": {
   "codemirror_mode": {
    "name": "ipython",
    "version": 3
   },
   "file_extension": ".py",
   "mimetype": "text/x-python",
   "name": "python",
   "nbconvert_exporter": "python",
   "pygments_lexer": "ipython3",
   "version": "3.9.12"
  }
 },
 "nbformat": 4,
 "nbformat_minor": 2
}
